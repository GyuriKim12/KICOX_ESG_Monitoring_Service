{
  "cells": [
    {
      "cell_type": "markdown",
      "metadata": {},
      "source": [
        "### 필요한 패키지 임포트 및 데이터 불러오기"
      ]
    },
    {
      "cell_type": "code",
      "execution_count": null,
      "metadata": {
        "id": "8ZuaOOrLU8zs"
      },
      "outputs": [],
      "source": [
        "import pandas as pd\n",
        "import numpy as np"
      ]
    },
    {
      "cell_type": "code",
      "execution_count": null,
      "metadata": {
        "id": "U9JlTqniVHsO"
      },
      "outputs": [],
      "source": [
        "data = pd.read_excel('/content/drive/MyDrive/Colab Notebooks/20231212_상세페이지용_중분류컬럼_추가.xlsx')"
      ]
    },
    {
      "cell_type": "code",
      "execution_count": null,
      "metadata": {
        "id": "ATlue5NhYzEB"
      },
      "outputs": [],
      "source": [
        "data=data[data['휴폐업여부']!='Y']"
      ]
    },
    {
      "cell_type": "markdown",
      "metadata": {
        "id": "ubyZkrwhYdUx"
      },
      "source": [
        "#### 1. 가중치 선정\n",
        "###### 매출액에 영향력을 크게 주는 지표일 수록 가중치 높게 선정됨\n",
        "###### 방법: 각 지표의 클래스 별 매출액과의 상관관계 분석을 통해 가중치 산정\n",
        "###### 지표: 수출여부, 업종별 수출액 비중, 3년 평균 매출액, 매출액대비연구개발비, 영업이익율, 기업규모, 특허유무, 부채비율"
      ]
    },
    {
      "cell_type": "code",
      "execution_count": null,
      "metadata": {
        "id": "PYiZfx2UWBQH"
      },
      "outputs": [],
      "source": [
        "# 매출액 영향력을 크게 줘야하므로, 매출액이 없는 행은 삭제한 후 상관관계 분석을 위한 데이터를 구축함\n",
        "data=data.dropna(subset=['매출액_2022'])"
      ]
    },
    {
      "cell_type": "code",
      "execution_count": null,
      "metadata": {
        "id": "UzFAcBxorFRI"
      },
      "outputs": [],
      "source": [
        "len(data)"
      ]
    },
    {
      "cell_type": "markdown",
      "metadata": {
        "id": "s4KpgMG9qV3F"
      },
      "source": [
        "### 1 각 지표별 상관분석"
      ]
    },
    {
      "cell_type": "markdown",
      "metadata": {
        "id": "RESP4MniZ6Z9"
      },
      "source": [
        "#### 1-1 영업이익율"
      ]
    },
    {
      "cell_type": "markdown",
      "metadata": {
        "id": "DPmTFMIObZen"
      },
      "source": [
        "##### 1-1-1 영업이익율을 기준으로 기업들을 1-10점으로 구간화\n",
        "#####   -> 각 점수별 기업수와 총매출액을 구함\n",
        "\n"
      ]
    },
    {
      "cell_type": "code",
      "execution_count": null,
      "metadata": {
        "id": "zJKfBtd2ZFgi"
      },
      "outputs": [],
      "source": [
        "#영업이익율\n",
        "filtered_df=data.copy()\n",
        "filtered_df=filtered_df[filtered_df['매출액_2022']!=0]\n",
        "\n",
        "#영업이익율 컬럼 생성\n",
        "filtered_df['영업이익율']=filtered_df['영업이익_2022']/filtered_df['매출액_2022']"
      ]
    },
    {
      "cell_type": "code",
      "execution_count": null,
      "metadata": {
        "id": "lmFjWC3RaCEz"
      },
      "outputs": [],
      "source": [
        "#영업이익율 10 class로 구간화\n",
        "quantiles_7 = filtered_df['영업이익율'].quantile(np.linspace(0, 1, 11)[1:-1]).values\n",
        "\n",
        "grade_labels_7 = [1, 2, 3, 4, 5, 6, 7, 8, 9, 10]\n",
        "filtered_df['영업이익율_등급'] = pd.cut(filtered_df['영업이익율'], bins=np.concatenate([[-np.inf], quantiles_7, [np.inf]]), labels=grade_labels_7)\n",
        "\n",
        "#각 class별로 기업수와 매출액 총합 계산\n",
        "grade_counts = filtered_df.groupby('영업이익율_등급')['영업이익율'].count()\n",
        "grade_total_revenue = filtered_df.groupby('영업이익율_등급')['매출액_2022'].sum()\n",
        "\n",
        "#각 class별 기업수와 매출액총합 정보가 있는 데이터프레임 생성\n",
        "df_영업이익율 = pd.DataFrame({\n",
        "    '등급': grade_labels_7,\n",
        "    '기업수': grade_counts.values,\n",
        "    '매출액총합': grade_total_revenue.values\n",
        "})"
      ]
    },
    {
      "cell_type": "markdown",
      "metadata": {
        "id": "Oee5h-JQbW6E"
      },
      "source": [
        "##### 1-1-2 매출액에 대한 impact계산과 이를 이용한 상관관계 분석"
      ]
    },
    {
      "cell_type": "code",
      "execution_count": null,
      "metadata": {
        "id": "oaCEw3-ba_u4"
      },
      "outputs": [],
      "source": [
        "#전체 기업수와 전체 매출액총합을 구함\n",
        "total_company_count = df_영업이익율['기업수'].sum()\n",
        "total_revenue = df_영업이익율['매출액총합'].sum()\n",
        "\n",
        "# 전체값을 구한 것을 각 class별 값에 나눠줌\n",
        "df_영업이익율['value'] = (df_영업이익율['매출액총합']/total_revenue) / (df_영업이익율['기업수']/total_company_count)\n",
        "df_영업이익율['value'] = df_영업이익율['value'].round(3)"
      ]
    },
    {
      "cell_type": "code",
      "execution_count": null,
      "metadata": {
        "id": "1eaRLEk8rIpY"
      },
      "outputs": [],
      "source": [
        "#영향값과 매출액간의 상관관계 분석\n",
        "corr_영업이익율 = df_영업이익율['매출액총합'].corr(df_영업이익율['value'])\n",
        "corr_영업이익율"
      ]
    },
    {
      "cell_type": "markdown",
      "metadata": {
        "id": "n-pzLt8NcKfM"
      },
      "source": [
        "#### 1-2 3년매출액평균"
      ]
    },
    {
      "cell_type": "code",
      "execution_count": null,
      "metadata": {
        "id": "mo5Y2ODbb7LQ"
      },
      "outputs": [],
      "source": [
        "#매출액 3년평균\n",
        "filtered_df1=data.copy()"
      ]
    },
    {
      "cell_type": "code",
      "execution_count": null,
      "metadata": {
        "id": "XEhCFBmocd1b"
      },
      "outputs": [],
      "source": [
        "#매출액 평균을 구하기 위한 함수\n",
        "#2020,2021,2022년 중 특정 년도의 데이터가 없을 수 있으므로 해당 함수를 통해 있는 년도만으로 평균 계산 진행\n",
        "def sell_cal(row):\n",
        "    valid_sales = [sale for sale in [row['매출액_2022'], row['매출액_2021'], row['매출액_2020']] if pd.notna(sale)]\n",
        "    return sum(valid_sales) / len(valid_sales)"
      ]
    },
    {
      "cell_type": "code",
      "execution_count": null,
      "metadata": {
        "id": "7sptn1ITc_NX"
      },
      "outputs": [],
      "source": [
        "#매출액평균 컬럼 생성\n",
        "filtered_df1['매출액평균'] = filtered_df1.apply(sell_cal, axis=1)"
      ]
    },
    {
      "cell_type": "markdown",
      "metadata": {
        "id": "0Yjyo0cpdQNN"
      },
      "source": [
        "###### 1-2-1 매출액평균을 기준으로 기업들을 1-10점으로 구간화\n",
        "######   -> 각 점수별 기업수와 총매출액을 구함"
      ]
    },
    {
      "cell_type": "code",
      "execution_count": null,
      "metadata": {
        "id": "vA6N_bNedDbq"
      },
      "outputs": [],
      "source": [
        "#매출액평균 10 class로 구간화\n",
        "quantiles_7 = filtered_df1['매출액평균'].quantile(np.linspace(0, 1, 11)[1:-1]).values\n",
        "\n",
        "grade_labels_7 = [1, 2, 3, 4, 5, 6, 7, 8, 9, 10]\n",
        "filtered_df1['매출액평균_등급'] = pd.cut(filtered_df1['매출액평균'], bins=np.concatenate([[-np.inf], quantiles_7, [np.inf]]), labels=grade_labels_7)\n",
        "\n",
        "#각 class별로 기업수와 매출액 총합 계산\n",
        "grade_counts = filtered_df1.groupby('매출액평균_등급')['매출액평균'].count()\n",
        "grade_total_revenue = filtered_df1.groupby('매출액평균_등급')['매출액_2022'].sum()\n",
        "\n",
        "#각 class별 기업수와 매출액총합 정보가 있는 데이터프레임 생성\n",
        "df_매출액평균 = pd.DataFrame({\n",
        "    '등급': grade_labels_7,\n",
        "    '기업수': grade_counts.values,\n",
        "    '매출액총합': grade_total_revenue.values\n",
        "})"
      ]
    },
    {
      "cell_type": "markdown",
      "metadata": {
        "id": "KYvvXEBdeGOq"
      },
      "source": [
        "##### 1-2-2 매출액에 대한 impact계산과 이를 이용한 상관관계 분석"
      ]
    },
    {
      "cell_type": "code",
      "execution_count": null,
      "metadata": {
        "id": "rQH5pPaedw5b"
      },
      "outputs": [],
      "source": [
        "#전체 기업수와 전체 매출액총합을 구함\n",
        "total_company_count = df_매출액평균['기업수'].sum()\n",
        "total_revenue = df_매출액평균['매출액총합'].sum()\n",
        "\n",
        "# 전체값을 구한 것을 각 class별 값에 나눠줌\n",
        "df_매출액평균['value'] = (df_매출액평균['매출액총합']/total_revenue) / (df_영업이익율['기업수']/total_company_count)\n",
        "df_매출액평균['value'] = df_매출액평균['value'].round(3)"
      ]
    },
    {
      "cell_type": "code",
      "execution_count": null,
      "metadata": {
        "id": "sgczJN3OrLtQ"
      },
      "outputs": [],
      "source": [
        "#영향값과 매출액간의 상관관계 분석\n",
        "corr_매출액평균 = df_매출액평균['매출액총합'].corr(df_매출액평균['value'])\n",
        "corr_매출액평균"
      ]
    },
    {
      "cell_type": "markdown",
      "metadata": {
        "id": "sOvh2oJUeeIg"
      },
      "source": [
        "#### 1-3 매출액 대비 연구개발비"
      ]
    },
    {
      "cell_type": "code",
      "execution_count": null,
      "metadata": {
        "id": "4BrQhY2yeWBg"
      },
      "outputs": [],
      "source": [
        "#매출액이 0이면 제외\n",
        "filtered_df2=data.copy()\n",
        "filtered_df2=filtered_df2.dropna(subset=['매출액_2022'])\n",
        "filtered_df2=filtered_df2[filtered_df2['매출액_2022']!=0]\n",
        "#연구개발비가 음수이면 0으로 대체\n",
        "filtered_df2.loc[filtered_df2['연구개발비_2022'] < 0, '연구개발비_2022'] = 0"
      ]
    },
    {
      "cell_type": "code",
      "execution_count": null,
      "metadata": {
        "id": "wkWxcu_sel2a"
      },
      "outputs": [],
      "source": [
        "#매출액대비연구개발비 컬럼 만들기\n",
        "filtered_df2['매출액대비연구개발비']= filtered_df2['연구개발비_2022']/filtered_df2['매출액_2022']"
      ]
    },
    {
      "cell_type": "markdown",
      "metadata": {
        "id": "a_g_aNJSep9h"
      },
      "source": [
        "##### 1-3-1 매출액 대비 연구개발비를 기준으로 기업들을 1-10점으로 구간화\n",
        "#####   -> 각 점수별 기업수와 총매출액을 구함"
      ]
    },
    {
      "cell_type": "code",
      "execution_count": null,
      "metadata": {
        "id": "AkFMBN55enJf"
      },
      "outputs": [],
      "source": [
        "#매출액대비 연구개발비 10 class로 구간화\n",
        "#0을 하나의 구간으로 갖고, 나머지 값을 9개의 구간으로 나눔\n",
        "bin_0 = [-np.inf, 0]\n",
        "non_zero_values = filtered_df2.loc[filtered_df2['매출액대비연구개발비'] > 0, '매출액대비연구개발비']\n",
        "quantiles_9 = non_zero_values.quantile(np.linspace(0, 1, 10)[1:-1]).tolist()\n",
        "bins = bin_0 + quantiles_9 + [np.inf]\n",
        "\n",
        "grade_labels_10 = [1,2,3,4,5,6,7,8,9,10]\n",
        "filtered_df2['매출액대비연구개발비_등급'] = pd.cut(filtered_df2['매출액대비연구개발비'], bins=bins, labels=grade_labels_10, include_lowest=True)\n",
        "\n",
        "#각 class별로 기업수와 매출액 총합 계산\n",
        "grade_counts = filtered_df2['매출액대비연구개발비_등급'].value_counts().sort_index()\n",
        "grade_total_revenue = filtered_df2.groupby('매출액대비연구개발비_등급')['매출액_2022'].sum()\n",
        "\n",
        "#각 class별 기업수와 매출액총합 정보가 있는 데이터프레임 생성\n",
        "df_매출액대비연구개발비 = pd.DataFrame({\n",
        "    '등급': grade_labels_10,\n",
        "    '기업수': grade_counts.reindex(grade_labels_10).fillna(0).astype(int).values,  # 누락된 구간을 0으로 채웁니다.\n",
        "    '매출액총합': grade_total_revenue.reindex(grade_labels_10).fillna(0).values\n",
        "})"
      ]
    },
    {
      "cell_type": "markdown",
      "metadata": {
        "id": "GTkB-nPYfEPu"
      },
      "source": [
        "###### 1-3-2 매출액에 대한 impact계산과 이를 이용한 상관관계 분석"
      ]
    },
    {
      "cell_type": "code",
      "execution_count": null,
      "metadata": {
        "id": "HkiCCg-ie7iW"
      },
      "outputs": [],
      "source": [
        "#전체 기업수와 전체 매출액총합을 구함\n",
        "total_company_count = df_매출액대비연구개발비['기업수'].sum()\n",
        "total_revenue = df_매출액대비연구개발비['매출액총합'].sum()\n",
        "\n",
        "# 전체값을 구한 것을 각 class별 값에 나눠줌\n",
        "df_매출액대비연구개발비['value'] = (df_매출액대비연구개발비['매출액총합']/total_revenue) / (df_매출액대비연구개발비['기업수']/total_company_count)\n",
        "df_매출액대비연구개발비['value'] = df_매출액대비연구개발비['value'].round(3)"
      ]
    },
    {
      "cell_type": "code",
      "execution_count": null,
      "metadata": {
        "id": "PRQaZ6_TrOLc"
      },
      "outputs": [],
      "source": [
        "#영향값과 매출액간의 상관관계 분석\n",
        "corr_매출액대비연구개발비 = df_매출액대비연구개발비['매출액총합'].corr(df_매출액대비연구개발비['value'])\n",
        "corr_매출액대비연구개발비"
      ]
    },
    {
      "cell_type": "markdown",
      "metadata": {
        "id": "oVJ3hnl-fS2w"
      },
      "source": [
        "#### 1-4 특허,이노비즈,메인비즈 유무"
      ]
    },
    {
      "cell_type": "code",
      "execution_count": null,
      "metadata": {
        "id": "XEZPfOe-fPgT"
      },
      "outputs": [],
      "source": [
        "#특허,이노,메인 유무\n",
        "filtered_df3 = data.copy()"
      ]
    },
    {
      "cell_type": "code",
      "execution_count": null,
      "metadata": {
        "id": "Re12K1A9jiCD"
      },
      "outputs": [],
      "source": [
        "#특허등록건수,이노비즈여부,메인비즈여부 컬럼을 이용하여 3개 모두 있으면 10 값을 가지고 2개만 있으면 7점, 1개만 있으면 5점 0개면 1 값을 가지게 됨\n",
        "def assign_patent(row):\n",
        "  if (row['특허등록건수']!=0 and row['메인비즈여부']=='유' and row['이노비즈여부']=='유'):\n",
        "    return 10\n",
        "  elif ((row['특허등록건수']!=0 and row['메인비즈여부']=='유' and row['이노비즈여부']=='무')):\n",
        "    return 7\n",
        "  elif ((row['특허등록건수']!=0 and row['메인비즈여부']=='무' and row['이노비즈여부']=='유')):\n",
        "    return 7\n",
        "  elif ((row['특허등록건수']==0 and row['메인비즈여부']=='유' and row['이노비즈여부']=='유')):\n",
        "    return 7\n",
        "  elif ((row['특허등록건수']==0 and row['메인비즈여부']=='유' and row['이노비즈여부']=='무')):\n",
        "    return 5\n",
        "  elif ((row['특허등록건수']==0 and row['메인비즈여부']=='무' and row['이노비즈여부']=='유')):\n",
        "    return 5\n",
        "  elif ((row['특허등록건수']!=0 and row['메인비즈여부']=='무' and row['이노비즈여부']=='무')):\n",
        "    return 5\n",
        "  elif ((row['특허등록건수']==0 and row['메인비즈여부']=='무' and row['이노비즈여부']=='무')):\n",
        "    return 1"
      ]
    },
    {
      "cell_type": "code",
      "execution_count": null,
      "metadata": {
        "id": "tg_JOt4oj8E5"
      },
      "outputs": [],
      "source": [
        "#위에서 생성한 함수를 이용하여 특허등록유무 컬럼 생성\n",
        "filtered_df3['특허이노메인_등급'] = filtered_df3.apply(assign_patent, axis=1)"
      ]
    },
    {
      "cell_type": "markdown",
      "metadata": {
        "id": "WH9vps0qkNwh"
      },
      "source": [
        "##### 1-4-1특허등록건수,이노비즈여부,메인비즈여부 컬럼을 이용하여 3개 모두 있으면 10 값을 가지고 2개만 있으면 7점, 1개만 있으면 5점 0개면 1점 부여\n",
        "#####   -> 각 점수별 기업수와 총매출액을 구한 후 상관분석 진행"
      ]
    },
    {
      "cell_type": "code",
      "execution_count": null,
      "metadata": {
        "id": "1tsqBWgFkEjO"
      },
      "outputs": [],
      "source": [
        "#각 class별로 기업수와 매출액 총합 계산\n",
        "grade_counts = filtered_df3['특허이노메인_등급'].value_counts().sort_index()\n",
        "grade_total_revenue = filtered_df3.groupby('특허이노메인_등급')['매출액_2022'].sum()\n",
        "\n",
        "#각 class별 기업수와 매출액총합 정보가 있는 데이터프레임 생성\n",
        "df_특허이노메인유무 = pd.DataFrame({\n",
        "    '등급': grade_counts.index,\n",
        "    '기업수': grade_counts.values,\n",
        "    '매출액총합': grade_total_revenue.values\n",
        "})"
      ]
    },
    {
      "cell_type": "markdown",
      "metadata": {
        "id": "nhb1egalk3ei"
      },
      "source": [
        "##### 1-4-2 특허이노메인 대한 impact계산과 이를 이용한 상관관계 분석"
      ]
    },
    {
      "cell_type": "code",
      "execution_count": null,
      "metadata": {
        "id": "Wi7_nE2kksd4"
      },
      "outputs": [],
      "source": [
        "#전체 기업수와 전체 매출액총합을 구함\n",
        "total_company_count = df_특허이노메인유무['기업수'].sum()\n",
        "total_revenue = df_특허이노메인유무['매출액총합'].sum()\n",
        "\n",
        "# 전체값을 구한 것을 각 class별 값에 나눠줌\n",
        "df_특허이노메인유무['value'] = (df_특허이노메인유무['매출액총합']/total_revenue) / (df_특허이노메인유무['기업수']/total_company_count)\n",
        "df_특허이노메인유무['value'] = df_특허이노메인유무['value'].round(3)"
      ]
    },
    {
      "cell_type": "code",
      "execution_count": null,
      "metadata": {
        "id": "xcgQruHcrQSk"
      },
      "outputs": [],
      "source": [
        "#영향값과 매출액간의 상관관계 분석\n",
        "corr_특허이노메인유무 = df_특허이노메인유무['매출액총합'].corr(df_특허이노메인유무['value'])\n",
        "corr_특허이노메인유무"
      ]
    },
    {
      "cell_type": "markdown",
      "metadata": {
        "id": "uSBue7HElII6"
      },
      "source": [
        "#### 1-5 기업규모"
      ]
    },
    {
      "cell_type": "code",
      "execution_count": null,
      "metadata": {
        "id": "Tht2wqsglGMw"
      },
      "outputs": [],
      "source": [
        "#기업규모\n",
        "filtered_df4=data.copy()\n",
        "filtered_df4=filtered_df4.dropna(subset=['기업규모'])\n",
        "filtered_df4=filtered_df4[filtered_df4['기업규모']!='판단제외']"
      ]
    },
    {
      "cell_type": "code",
      "execution_count": null,
      "metadata": {
        "id": "N0v4x_4HlYWt"
      },
      "outputs": [],
      "source": [
        "# 기업규모 컬럼을 이용하여 소기업,소상공인,중기업,한시성중소기업은 1값을 가지고\n",
        "#중견기업, 보호대상중견기업 2, 대기업은 1 값을 가지는 함수 구현\n",
        "def assign_size_status(row):\n",
        "    if row['기업규모'] == '대기업':\n",
        "        return 3\n",
        "    elif row['기업규모'] == '중견기업' or row['기업규모']=='보호대상중견기업':\n",
        "        return 2\n",
        "    else:\n",
        "      return 1"
      ]
    },
    {
      "cell_type": "code",
      "execution_count": null,
      "metadata": {
        "id": "L2IN8iAilmxJ"
      },
      "outputs": [],
      "source": [
        "# 기업규모_수정 컬럼 생성\n",
        "filtered_df4['기업규모_수정'] = filtered_df4.apply(assign_size_status, axis=1)"
      ]
    },
    {
      "cell_type": "markdown",
      "metadata": {
        "id": "KGapcEHRlufW"
      },
      "source": [
        "##### 1-5-1 기업규모 기준으로 중소기업 10점, 중견기업 5점, 대기업 1점 부여\n",
        "#####   -> 각 점수별 기업수와 총매출액을 구함"
      ]
    },
    {
      "cell_type": "code",
      "execution_count": null,
      "metadata": {
        "id": "nn0TUKNvlqUj"
      },
      "outputs": [],
      "source": [
        "#기업규모\n",
        "#1,4,7\n",
        "#중소기업->10 중견기업->5 대기업->1\n",
        "filtered_df4['기업규모_등급'] = filtered_df4['기업규모_수정'].map({1:10, 2:5, 3:1})\n",
        "\n",
        "#각 class별로 기업수와 매출액 총합 계산\n",
        "grade_counts = filtered_df4['기업규모_등급'].value_counts().sort_index()\n",
        "grade_total_revenue = filtered_df4.groupby('기업규모_등급')['매출액_2022'].sum()\n",
        "\n",
        "#각 class별 기업수와 매출액총합 정보가 있는 데이터프레임 생성\n",
        "df_기업규모 = pd.DataFrame({\n",
        "    '등급': grade_counts.index,\n",
        "    '기업수': grade_counts.values,\n",
        "    '매출액총합': grade_total_revenue.values\n",
        "})"
      ]
    },
    {
      "cell_type": "markdown",
      "metadata": {
        "id": "eSgw8xc3l8gj"
      },
      "source": [
        "##### 1-5-2 매출액에 대한 impact계산과 이를 이용한 상관관계 분석"
      ]
    },
    {
      "cell_type": "code",
      "execution_count": null,
      "metadata": {
        "id": "lb9FaF7Bl5M3"
      },
      "outputs": [],
      "source": [
        "#전체 기업수와 전체 매출액총합을 구함\n",
        "total_company_count = df_기업규모['기업수'].sum()\n",
        "total_revenue = df_기업규모['매출액총합'].sum()\n",
        "\n",
        "# 전체값을 구한 것을 각 class별 값에 나눠줌\n",
        "df_기업규모['value'] = (df_기업규모['매출액총합']/total_revenue) / (df_기업규모['기업수']/total_company_count)\n",
        "df_기업규모['value'] = df_기업규모['value'].round(3)"
      ]
    },
    {
      "cell_type": "code",
      "execution_count": null,
      "metadata": {
        "id": "pVtdvpe9rTGj"
      },
      "outputs": [],
      "source": [
        "#영향값과 매출액간의 상관관계 분석\n",
        "corr_기업규모 = df_기업규모['매출액총합'].corr(df_기업규모['value'])\n",
        "corr_기업규모"
      ]
    },
    {
      "cell_type": "markdown",
      "metadata": {
        "id": "ZCQmNxsnmbhF"
      },
      "source": [
        "#### 1-6 부채비율"
      ]
    },
    {
      "cell_type": "code",
      "execution_count": null,
      "metadata": {
        "id": "dxW7sdFOmmbL"
      },
      "outputs": [],
      "source": [
        "#부채비율이 자본잠식인 값을 제거\n",
        "filtered_df6 = data.copy()\n",
        "filtered_df6=filtered_df6.dropna(subset=['부채비율_2022'])\n",
        "filtered_df6 = filtered_df6[filtered_df6['부채비율_2022'] != '자본잠식']"
      ]
    },
    {
      "cell_type": "code",
      "execution_count": null,
      "metadata": {
        "id": "mTooSwWdmpV9"
      },
      "outputs": [],
      "source": [
        "#부채비율컬럼 타입 변경\n",
        "filtered_df6['부채비율_2022']=filtered_df6['부채비율_2022'].astype(float)"
      ]
    },
    {
      "cell_type": "code",
      "execution_count": null,
      "metadata": {
        "id": "GvKjY3YImrtN"
      },
      "outputs": [],
      "source": [
        "# 부채비율_2022컬럼을 기준으로 200%이하는 3, 200-400%는 2, 400%이상은 1값을 가지는 함수 구현\n",
        "def assign_status(row):\n",
        "    if row['부채비율_2022']<200:\n",
        "        return 3\n",
        "    elif row['부채비율_2022'] >=200 and row['부채비율_2022']<400:\n",
        "        return 2\n",
        "    else:\n",
        "      return 1"
      ]
    },
    {
      "cell_type": "code",
      "execution_count": null,
      "metadata": {
        "id": "1l5jtqEtmOR9"
      },
      "outputs": [],
      "source": [
        "#위의 함수를 적용한 부채비율구간 컬럼 생성\n",
        "filtered_df6['부채비율구간'] = filtered_df6.apply(assign_status, axis=1)"
      ]
    },
    {
      "cell_type": "markdown",
      "metadata": {
        "id": "CkRKgS8Em7ob"
      },
      "source": [
        "##### 1-6-1 부채비율을 기준으로 기업들을 200%미만은 10점, 200-400%는 5점, 400%이상은 1점 부여\n",
        "#####   -> 각 점수별 기업수와 총매출액을 구함"
      ]
    },
    {
      "cell_type": "code",
      "execution_count": null,
      "metadata": {
        "id": "VlN4sjwrm4Sy"
      },
      "outputs": [],
      "source": [
        "#부채비율구간\n",
        "filtered_df6['부채비율_등급'] = filtered_df6['부채비율구간'].map({3:10, 2:5, 1:1})\n",
        "\n",
        "#각 class별로 기업수와 매출액 총합 계산\n",
        "grade_counts = filtered_df6['부채비율_등급'].value_counts().sort_index()\n",
        "grade_total_revenue = filtered_df6.groupby('부채비율_등급')['매출액_2022'].sum()\n",
        "\n",
        "#각 class별 기업수와 매출액총합 정보가 있는 데이터프레임 생성\n",
        "df_부채비율구간 = pd.DataFrame({\n",
        "    '등급': grade_counts.index,\n",
        "    '기업수': grade_counts.values,\n",
        "    '매출액총합': grade_total_revenue.values\n",
        "})"
      ]
    },
    {
      "cell_type": "markdown",
      "metadata": {
        "id": "l-2ONP0NnWc5"
      },
      "source": [
        "##### 1-6-2 매출액에 대한 impact계산과 이를 이용한 상관관계 분석"
      ]
    },
    {
      "cell_type": "code",
      "execution_count": null,
      "metadata": {
        "id": "qpGzqk07nJXo"
      },
      "outputs": [],
      "source": [
        "#전체 기업수와 전체 매출액총합을 구함\n",
        "total_company_count = df_부채비율구간['기업수'].sum()\n",
        "total_revenue = df_부채비율구간['매출액총합'].sum()\n",
        "\n",
        "# 전체값을 구한 것을 각 class별 값에 나눠줌\n",
        "df_부채비율구간['value'] = (df_부채비율구간['매출액총합']/total_revenue) / (df_부채비율구간['기업수']/total_company_count)\n",
        "df_부채비율구간['value'] = df_부채비율구간['value'].round(3)"
      ]
    },
    {
      "cell_type": "code",
      "execution_count": null,
      "metadata": {
        "id": "BzY5Zo2vz54X"
      },
      "outputs": [],
      "source": [
        "#영향값과 매출액간의 상관관계 분석\n",
        "corr_부채비율구간 = df_부채비율구간['매출액총합'].corr(df_부채비율구간['value'])\n",
        "corr_부채비율구간"
      ]
    },
    {
      "cell_type": "markdown",
      "metadata": {
        "id": "MTQhW3_cnlP9"
      },
      "source": [
        "#### 1-7 수출여부"
      ]
    },
    {
      "cell_type": "code",
      "execution_count": null,
      "metadata": {
        "id": "apHAfXeSnfZB"
      },
      "outputs": [],
      "source": [
        "filtered_df5=data.copy()"
      ]
    },
    {
      "cell_type": "code",
      "execution_count": null,
      "metadata": {
        "id": "O1JRnZEtnp-K"
      },
      "outputs": [],
      "source": [
        "# EU,US둘다 수출하면 4, EU만 수출하면 3, US만 수출하면 2, 이외 국가에 수출하면 1,\n",
        "# 수출기업이 아니면 0 값이 되는 함수 구현\n",
        "def assign_export_status(row):\n",
        "    if row['수출 여부 (EU)'] == '유' and row['수출 여부 (US)'] == '유':\n",
        "      return 4\n",
        "    elif row['수출 여부 (EU)'] == '유':\n",
        "      return 3\n",
        "    elif row['수출 여부 (US)'] == '유':\n",
        "      return 2\n",
        "    elif pd.notna(row['수출액_2022']):\n",
        "      return 1\n",
        "    else:\n",
        "      return 0"
      ]
    },
    {
      "cell_type": "code",
      "execution_count": null,
      "metadata": {
        "id": "F9hRIQsJn21J"
      },
      "outputs": [],
      "source": [
        "#위의 함수를 적용한 수출여부 컬럼 생성\n",
        "filtered_df5['수출여부'] = filtered_df5.apply(assign_export_status, axis=1)"
      ]
    },
    {
      "cell_type": "markdown",
      "metadata": {
        "id": "kGXWwjY3n_yy"
      },
      "source": [
        "##### 1-7-1 수출여부를 기준으로 기업들을 EU,US 둘다 수출하면 10점, EU만 수출하면 9점, US만 수출하면 8점, 이외 국가에 수출하면 5점, 수출 안하는 기업은 1점 부여\n",
        "#####   -> 각 점수별 기업수와 총매출액을 구함"
      ]
    },
    {
      "cell_type": "code",
      "execution_count": null,
      "metadata": {
        "id": "xC-9kRUin_D7"
      },
      "outputs": [],
      "source": [
        "#수출여부\n",
        "filtered_df5['수출여부_등급'] = filtered_df5['수출여부'].map({4:10, 3:9, 2:8, 1:5, 0:1})\n",
        "\n",
        "#각 class별로 기업수와 매출액 총합 계산\n",
        "grade_counts = filtered_df5['수출여부_등급'].value_counts().sort_index()\n",
        "grade_total_revenue = filtered_df5.groupby('수출여부_등급')['매출액_2022'].sum()\n",
        "\n",
        "#각 class별 기업수와 매출액총합 정보가 있는 데이터프레임 생성\n",
        "df_수출여부 = pd.DataFrame({\n",
        "    '등급': grade_counts.index,\n",
        "    '기업수': grade_counts.values,\n",
        "    '매출액총합': grade_total_revenue.values\n",
        "})"
      ]
    },
    {
      "cell_type": "markdown",
      "metadata": {
        "id": "ytaD7tejooAH"
      },
      "source": [
        "##### 1-7-2 매출액에 대한 impact계산과 이를 이용한 상관관계 분석"
      ]
    },
    {
      "cell_type": "code",
      "execution_count": null,
      "metadata": {
        "id": "hv4YXgJkomVC"
      },
      "outputs": [],
      "source": [
        "#전체 기업수와 전체 매출액총합을 구함\n",
        "total_company_count = df_수출여부['기업수'].sum()\n",
        "total_revenue = df_수출여부['매출액총합'].sum()\n",
        "\n",
        "# 전체값을 구한 것을 각 class별 값에 나눠줌\n",
        "df_수출여부['value'] = (df_수출여부['매출액총합']/total_revenue) / (df_수출여부['기업수']/total_company_count)\n",
        "df_수출여부['value'] = df_수출여부['value'].round(3)"
      ]
    },
    {
      "cell_type": "code",
      "execution_count": null,
      "metadata": {
        "id": "v62IU39Tz80M"
      },
      "outputs": [],
      "source": [
        "#영향값과 매출액간의 상관관계 분석\n",
        "corr_수출여부 = df_수출여부['매출액총합'].corr(df_수출여부['value'])\n",
        "corr_수출여부"
      ]
    },
    {
      "cell_type": "markdown",
      "metadata": {
        "id": "ingSUXKxpArc"
      },
      "source": [
        "#### 1-8 업종별 수출액 비중"
      ]
    },
    {
      "cell_type": "code",
      "execution_count": null,
      "metadata": {
        "id": "wlcJ_lQBo_vD"
      },
      "outputs": [],
      "source": [
        "filtered_df7 = data.copy()\n",
        "filtered_df7=filtered_df7.dropna(subset=['중분류'])"
      ]
    },
    {
      "cell_type": "markdown",
      "metadata": {
        "id": "YJfHyGLPpNq_"
      },
      "source": [
        "##### 1-8-1 업종별 수출 비중을 기준으로 점수 부여\n",
        "#####   >> 석유화학 10점, 철강: 9점, 전기전자/기계: 8점, 운송장비: 7점, 음식료/정보통신: 6점, 섬유의복: 5점, 기타제조; 4점, 목재종이: 3점, 비금속: 2점, 출판업/기타비제조: 1점\n",
        "#####   -> 각 점수별 기업수와 총매출액을 구한 후 상관분석 진행"
      ]
    },
    {
      "cell_type": "code",
      "execution_count": null,
      "metadata": {
        "id": "5wb92s5epIpe"
      },
      "outputs": [],
      "source": [
        "filtered_df7['업종별수출비중_등급'] = filtered_df7['중분류'].map({'석유화학':10,\n",
        "                                                      '철강':9,'전기전자':8,'기계':8,'운송장비':7,\n",
        "                                                      '음식료':6,'정보통신':6,\n",
        "                                                      '섬유의복':5,'기타제조':4,'목재종이':3,'비금속':2, '출판업':1, '기타비제조':1})\n",
        "\n",
        "#각 class별로 기업수와 매출액 총합 계산\n",
        "grade_counts = filtered_df7['업종별수출비중_등급'].value_counts().sort_index()\n",
        "grade_total_revenue = filtered_df7.groupby('업종별수출비중_등급')['매출액_2022'].sum()\n",
        "\n",
        "#각 class별 기업수와 매출액총합 정보가 있는 데이터프레임 생성\n",
        "df_업종별수출비중 = pd.DataFrame({\n",
        "    '등급': grade_counts.index,\n",
        "    '기업수': grade_counts.values,\n",
        "    '매출액총합': grade_total_revenue.values\n",
        "})"
      ]
    },
    {
      "cell_type": "markdown",
      "metadata": {
        "id": "ety8_Hurp3Gt"
      },
      "source": [
        "##### 1-8-2 매출액에 대한 impact계산과 이를 이용한 상관관계 분석"
      ]
    },
    {
      "cell_type": "code",
      "execution_count": null,
      "metadata": {
        "id": "8tn3ehwjpyHd"
      },
      "outputs": [],
      "source": [
        "#전체 기업수와 전체 매출액총합을 구함\n",
        "total_company_count = df_업종별수출비중['기업수'].sum()\n",
        "total_revenue = df_업종별수출비중['매출액총합'].sum()\n",
        "\n",
        "# 전체값을 구한 것을 각 class별 값에 나눠줌\n",
        "df_업종별수출비중['value'] = (df_업종별수출비중['매출액총합']/total_revenue) / (df_업종별수출비중['기업수']/total_company_count)\n",
        "df_업종별수출비중['value'] = df_업종별수출비중['value'].round(3)"
      ]
    },
    {
      "cell_type": "code",
      "execution_count": null,
      "metadata": {
        "id": "A7kfX-2Dz-yi"
      },
      "outputs": [],
      "source": [
        "#영향값과 매출액간의 상관관계 분석\n",
        "corr_업종별수출비중 = df_업종별수출비중['매출액총합'].corr(df_업종별수출비중['value'])\n",
        "corr_업종별수출비중"
      ]
    },
    {
      "cell_type": "markdown",
      "metadata": {
        "id": "H-2roQliqNDJ"
      },
      "source": [
        "### 2 각 지표별 가중치 계산"
      ]
    },
    {
      "cell_type": "markdown",
      "metadata": {
        "id": "OpGdafKAqqit"
      },
      "source": [
        "##### 계산 방식 설명\n",
        "##### 1. 각 지표 당 10점까지 부여되었으므로, 각 지표의 상관계수마다 10을 곱해줌\n",
        "##### 2. 각 지표별로 10을 곱해준 값을 총합함\n",
        "##### 3. 각 지표의 상관계수에 총합해준 값을 나눠줌 -> 해당 값이 해당 지표의 가중치로 설정됨"
      ]
    },
    {
      "cell_type": "code",
      "execution_count": null,
      "metadata": {
        "id": "EIKkANz4qJB1"
      },
      "outputs": [],
      "source": [
        "#1인당매출액\n",
        "a=corr_영업이익율*10\n",
        "#매출액대비연구개발비\n",
        "b=corr_매출액대비연구개발비*10\n",
        "#부채비율구간\n",
        "c=corr_부채비율구간*10\n",
        "#기업규모\n",
        "d=corr_기업규모*10\n",
        "#특허등록건수\n",
        "e=corr_특허이노메인유무*10\n",
        "#수출국가\n",
        "f=corr_수출여부*10\n",
        "#업종별ESG리스크\n",
        "g=corr_업종별수출비중*10\n",
        "#매출액평균\n",
        "h=corr_매출액평균*10\n",
        "\n",
        "\n",
        "#총합\n",
        "total = a+b+c+d+e+f+g+h"
      ]
    },
    {
      "cell_type": "code",
      "execution_count": null,
      "metadata": {
        "id": "BnOcwQ5cqs_s"
      },
      "outputs": [],
      "source": [
        "#각 지표별 가중치\n",
        "print('영업이익율 :',(a/total),'매출액대비연구개발비 :',(b/total),\n",
        " '부채비율구간 :', (c/total), '기업규모 :', (d/total),'특허이노메인유무: ', (e/total),'\\n'\n",
        "  '수출국가 :', (f/total), '업종별수출비중 :', (g/total), '매출액평균 : ',(h/total))"
      ]
    },
    {
      "cell_type": "markdown",
      "metadata": {
        "id": "QZzG-4eirqbw"
      },
      "source": [
        "### 2. 가중치 적용 및 등급화\n"
      ]
    },
    {
      "cell_type": "code",
      "execution_count": null,
      "metadata": {
        "id": "meoOGU8Dk-VU"
      },
      "outputs": [],
      "source": [
        "df = pd.read_excel('/content/drive/MyDrive/Colab Notebooks/20231212_상세페이지용_중분류컬럼_추가.xlsx')"
      ]
    },
    {
      "cell_type": "code",
      "execution_count": null,
      "metadata": {
        "id": "3hFY4rdHlpF9"
      },
      "outputs": [],
      "source": [
        "df=df[df['휴폐업여부']!='Y']"
      ]
    },
    {
      "cell_type": "code",
      "execution_count": null,
      "metadata": {
        "id": "2jGSrcHacmsD"
      },
      "outputs": [],
      "source": [
        "dt = pd.read_excel('/content/drive/MyDrive/Colab Notebooks/ESG 참여기업 61곳.xlsx')"
      ]
    },
    {
      "cell_type": "code",
      "execution_count": null,
      "metadata": {
        "id": "Bk1E8-AxrL1O"
      },
      "outputs": [],
      "source": [
        "df.rename(columns={'사업자등록번호':'사업자번호'}, inplace=True)"
      ]
    },
    {
      "cell_type": "code",
      "execution_count": null,
      "metadata": {
        "id": "bVRSU6RYcnLz"
      },
      "outputs": [],
      "source": [
        "df = pd.merge(df,dt,how='left',on='사업자번호')"
      ]
    },
    {
      "cell_type": "markdown",
      "metadata": {
        "id": "25Wu45ZJrSID"
      },
      "source": [
        "#### 2-1 각 지표별 컬럼 생성\n",
        "###### 방식 설명\n",
        "###### 1.  <1. 가중치 설정>에서 사용되었던 각 지표별 1-10점 부여 방식을 그대로 사용하여 컬럼 생성 및 점수 부여\n",
        "###### 2. 기존 데이터와 merge시켜 기존 데이터에 해당 지표의 등급컬럼 추가"
      ]
    },
    {
      "cell_type": "markdown",
      "metadata": {
        "id": "nlleqO2otEKT"
      },
      "source": [
        "##### 2-1-1 영업이익율"
      ]
    },
    {
      "cell_type": "code",
      "execution_count": null,
      "metadata": {
        "id": "9CJ3lOVstAkw"
      },
      "outputs": [],
      "source": [
        "#영업이익율\n",
        "filtered_df=df.copy()\n",
        "filtered_df=filtered_df.dropna(subset=['매출액_2022'])\n",
        "filtered_df=filtered_df[filtered_df['매출액_2022']!=0]\n",
        "\n",
        "#영업이익율 컬럼 생성\n",
        "filtered_df['영업이익율']=filtered_df['영업이익_2022']/filtered_df['매출액_2022']"
      ]
    },
    {
      "cell_type": "code",
      "execution_count": null,
      "metadata": {
        "id": "GXsNQc5ZrP0P"
      },
      "outputs": [],
      "source": [
        "#영업이익율\n",
        "quantiles_7 = filtered_df['영업이익율'].quantile(np.linspace(0, 1, 11)[1:-1]).values\n",
        "\n",
        "grade_labels_7 = [1, 2, 3, 4, 5, 6, 7, 8, 9, 10]\n",
        "filtered_df['영업이익율_등급'] = pd.cut(filtered_df['영업이익율'], bins=np.concatenate([[-np.inf], quantiles_7, [np.inf]]), labels=grade_labels_7)"
      ]
    },
    {
      "cell_type": "code",
      "execution_count": null,
      "metadata": {
        "id": "_l35m9ecs-_U"
      },
      "outputs": [],
      "source": [
        "#기존 data와 merge시키기\n",
        "filtered_df = filtered_df[['사업자번호','영업이익율','영업이익율_등급']]\n",
        "df = pd.merge(df,filtered_df,how='left',on='사업자번호')"
      ]
    },
    {
      "cell_type": "markdown",
      "metadata": {},
      "source": [
        "##### 2-1-2  3년 평균 매출액"
      ]
    },
    {
      "cell_type": "code",
      "execution_count": null,
      "metadata": {
        "id": "oOFzVfnXtMUX"
      },
      "outputs": [],
      "source": [
        "#매출액 3년평균\n",
        "filtered_df1=df.copy()\n",
        "filtered_df1 = filtered_df1.dropna(subset=['매출액_2022', '매출액_2021', '매출액_2020'], how='all')"
      ]
    },
    {
      "cell_type": "code",
      "execution_count": null,
      "metadata": {
        "id": "cAcpk6CWtZF3"
      },
      "outputs": [],
      "source": [
        "def sell_cal(row):\n",
        "    valid_sales = [sale for sale in [row['매출액_2022'], row['매출액_2021'], row['매출액_2020']] if pd.notna(sale)]\n",
        "    return sum(valid_sales) / len(valid_sales)"
      ]
    },
    {
      "cell_type": "code",
      "execution_count": null,
      "metadata": {
        "id": "EcaQYOPGtajo"
      },
      "outputs": [],
      "source": [
        "#위의 함수를 사용하여 매출액평균 컬럼 생성\n",
        "filtered_df1['매출액평균'] = filtered_df1.apply(sell_cal, axis=1)"
      ]
    },
    {
      "cell_type": "code",
      "execution_count": null,
      "metadata": {
        "id": "YdeWgW1Xtb65"
      },
      "outputs": [],
      "source": [
        "quantiles_7 = filtered_df1['매출액평균'].quantile(np.linspace(0, 1, 11)[1:-1]).values\n",
        "\n",
        "grade_labels_7 = [1, 2, 3, 4, 5, 6, 7, 8, 9, 10]\n",
        "filtered_df1['매출액평균_등급'] = pd.cut(filtered_df1['매출액평균'], bins=np.concatenate([[-np.inf], quantiles_7, [np.inf]]), labels=grade_labels_7)"
      ]
    },
    {
      "cell_type": "code",
      "execution_count": null,
      "metadata": {
        "id": "5R3KyJDFtda-"
      },
      "outputs": [],
      "source": [
        "#기존 data와 merge시키기\n",
        "filtered_df1 = filtered_df1[['사업자번호','매출액평균','매출액평균_등급']]\n",
        "df=pd.merge(df,filtered_df1,how='left',on='사업자번호')"
      ]
    },
    {
      "cell_type": "markdown",
      "metadata": {
        "id": "rdAY6A1ntfjt"
      },
      "source": [
        "##### 2-1-3 매출액 대비 연구개발비"
      ]
    },
    {
      "cell_type": "code",
      "execution_count": null,
      "metadata": {
        "id": "b_Vcf3hetekd"
      },
      "outputs": [],
      "source": [
        "#매출액이 0이면 제외\n",
        "filtered_df2=df.copy()\n",
        "filtered_df2=filtered_df2.dropna(subset=['매출액_2022'])\n",
        "filtered_df2=filtered_df2[filtered_df2['매출액_2022']!=0]\n",
        "#연구개발비가 음수이면 0으로 대체\n",
        "filtered_df2.loc[filtered_df2['연구개발비_2022'] < 0, '연구개발비_2022'] = 0"
      ]
    },
    {
      "cell_type": "code",
      "execution_count": null,
      "metadata": {
        "id": "NenAPAfxtlk-"
      },
      "outputs": [],
      "source": [
        "#매출액대비연구개발비 컬럼 생성\n",
        "filtered_df2['매출액대비연구개발비']= filtered_df2['연구개발비_2022']/filtered_df2['매출액_2022']"
      ]
    },
    {
      "cell_type": "code",
      "execution_count": null,
      "metadata": {
        "id": "DnOHIrUctnVf"
      },
      "outputs": [],
      "source": [
        "#0을 하나의 구간으로 갖고, 나머지 값을 9개의 구간으로 나눔\n",
        "bin_0 = [-np.inf, 0]\n",
        "non_zero_values = filtered_df2.loc[filtered_df2['매출액대비연구개발비'] > 0, '매출액대비연구개발비']\n",
        "quantiles_9 = non_zero_values.quantile(np.linspace(0, 1, 10)[1:-1]).tolist()\n",
        "bins = bin_0 + quantiles_9 + [np.inf]\n",
        "\n",
        "grade_labels_10 = [1,2,3,4,5,6,7,8,9,10]\n",
        "filtered_df2['매출액대비연구개발비_등급'] = pd.cut(filtered_df2['매출액대비연구개발비'], bins=bins, labels=grade_labels_10, include_lowest=True)"
      ]
    },
    {
      "cell_type": "code",
      "execution_count": null,
      "metadata": {
        "id": "OCxpeP2Ytqdb"
      },
      "outputs": [],
      "source": [
        "#기존 data와 merge시키기\n",
        "filtered_df2 = filtered_df2[['사업자번호','매출액대비연구개발비','매출액대비연구개발비_등급']]\n",
        "df=pd.merge(df,filtered_df2,how='left',on='사업자번호')"
      ]
    },
    {
      "cell_type": "markdown",
      "metadata": {
        "id": "xQxdmJ3rttuq"
      },
      "source": [
        "##### 2-1-4 특허이노메인"
      ]
    },
    {
      "cell_type": "code",
      "execution_count": null,
      "metadata": {
        "id": "gCLWjLfZtr7A"
      },
      "outputs": [],
      "source": [
        "filtered_df3 = df.copy()"
      ]
    },
    {
      "cell_type": "code",
      "execution_count": null,
      "metadata": {
        "id": "mmE51N8nty7h"
      },
      "outputs": [],
      "source": [
        "#특허등록건수,이노비즈여부,메인비즈여부 컬럼을 이용하여 3개 모두 있으면 10 값을 가지고 2개만 있으면 7점, 1개만 있으면 5점 0개면 1 값을 가지게 되는 함수\n",
        "def assign_patent(row):\n",
        "  if (row['특허등록건수']!=0 and row['메인비즈여부']=='유' and row['이노비즈여부']=='유'):\n",
        "    return 10\n",
        "  elif ((row['특허등록건수']!=0 and row['메인비즈여부']=='유' and row['이노비즈여부']=='무')):\n",
        "    return 8\n",
        "  elif ((row['특허등록건수']!=0 and row['메인비즈여부']=='무' and row['이노비즈여부']=='유')):\n",
        "    return 8\n",
        "  elif ((row['특허등록건수']==0 and row['메인비즈여부']=='유' and row['이노비즈여부']=='유')):\n",
        "    return 8\n",
        "  elif ((row['특허등록건수']==0 and row['메인비즈여부']=='유' and row['이노비즈여부']=='무')):\n",
        "    return 8\n",
        "  elif ((row['특허등록건수']==0 and row['메인비즈여부']=='무' and row['이노비즈여부']=='유')):\n",
        "    return 8\n",
        "  elif ((row['특허등록건수']!=0 and row['메인비즈여부']=='무' and row['이노비즈여부']=='무')):\n",
        "    return 6\n",
        "  elif ((row['특허등록건수']==0 and row['메인비즈여부']=='무' and row['이노비즈여부']=='무')):\n",
        "    return 1"
      ]
    },
    {
      "cell_type": "code",
      "execution_count": null,
      "metadata": {
        "id": "SGK7wiRvt0lr"
      },
      "outputs": [],
      "source": [
        "#위의 함수를 사용하여 특허이노메인 컬럼 생성\n",
        "filtered_df3['특허이노메인_등급'] = filtered_df3.apply(assign_patent, axis=1)"
      ]
    },
    {
      "cell_type": "code",
      "execution_count": null,
      "metadata": {
        "id": "DW44u3hSt4C5"
      },
      "outputs": [],
      "source": [
        "#기존 data와 merge시키기\n",
        "filtered_df3 = filtered_df3[['사업자번호','특허이노메인_등급']]\n",
        "df = pd.merge(df,filtered_df3,how='left',on='사업자번호')"
      ]
    },
    {
      "cell_type": "markdown",
      "metadata": {
        "id": "iLVvEgILt7BB"
      },
      "source": [
        "##### 2-1-5 기업규모"
      ]
    },
    {
      "cell_type": "code",
      "execution_count": null,
      "metadata": {
        "id": "06D2Tfg6t5v_"
      },
      "outputs": [],
      "source": [
        "filtered_df4=df.copy()\n",
        "filtered_df4=filtered_df4.dropna(subset=['기업규모'])\n",
        "filtered_df4=filtered_df4[filtered_df4['기업규모']!='판단제외']"
      ]
    },
    {
      "cell_type": "code",
      "execution_count": null,
      "metadata": {
        "id": "PDPddeLbt-i7"
      },
      "outputs": [],
      "source": [
        "# 기업규모\n",
        "#소기업,소상공인,중기업,한시성중소기업\n",
        "#중견기업, 보호대상중견기업\n",
        "#대기업\n",
        "def assign_size_status(row):\n",
        "    if row['기업규모'] == '대기업':\n",
        "        return 3\n",
        "    elif row['기업규모'] == '중견기업' or row['기업규모']=='보호대상중견기업':\n",
        "        return 2\n",
        "    else:\n",
        "      return 1"
      ]
    },
    {
      "cell_type": "code",
      "execution_count": null,
      "metadata": {
        "id": "FQ7bJtF_uAXv"
      },
      "outputs": [],
      "source": [
        "#위의 함수를 사용하여 기업규모_수정 컬럼 생성\n",
        "filtered_df4['기업규모_수정'] = filtered_df4.apply(assign_size_status, axis=1)"
      ]
    },
    {
      "cell_type": "code",
      "execution_count": null,
      "metadata": {
        "id": "mGGThOVbuBdy"
      },
      "outputs": [],
      "source": [
        "#기업규모_수정 컬럼을 사용하여 기업규모_등급 컬럼 생성\n",
        "filtered_df4['기업규모_등급'] = filtered_df4['기업규모_수정'].map({1:10, 2:5, 3:1})"
      ]
    },
    {
      "cell_type": "code",
      "execution_count": null,
      "metadata": {
        "id": "5TIg8flSuCf9"
      },
      "outputs": [],
      "source": [
        "#기존 data와 merge시키기\n",
        "filtered_df4 = filtered_df4[['사업자번호','기업규모_수정','기업규모_등급']]\n",
        "df = pd.merge(df,filtered_df4,how='left',on='사업자번호')"
      ]
    },
    {
      "cell_type": "markdown",
      "metadata": {
        "id": "TzfAatfTuFcA"
      },
      "source": [
        "##### 2-1-6 부채비율"
      ]
    },
    {
      "cell_type": "code",
      "execution_count": null,
      "metadata": {
        "id": "f8YU5lAJuDt6"
      },
      "outputs": [],
      "source": [
        "filtered_df6 = df.copy()\n",
        "filtered_df6=filtered_df6.dropna(subset=['부채비율_2022'])\n",
        "filtered_df6 = filtered_df6[filtered_df6['부채비율_2022'] != '자본잠식']"
      ]
    },
    {
      "cell_type": "code",
      "execution_count": null,
      "metadata": {
        "id": "p3ye9_jYuM_J"
      },
      "outputs": [],
      "source": [
        "#부채비율컬럼 타입 변경\n",
        "filtered_df6['부채비율_2022']=filtered_df6['부채비율_2022'].astype(float)"
      ]
    },
    {
      "cell_type": "code",
      "execution_count": null,
      "metadata": {
        "id": "u45Qya8IuOMe"
      },
      "outputs": [],
      "source": [
        "# 부채비율\n",
        "def assign_status(row):\n",
        "    if row['부채비율_2022']<200:\n",
        "        return 3\n",
        "    elif row['부채비율_2022'] >=200 and row['부채비율_2022']<400:\n",
        "        return 2\n",
        "    else:\n",
        "      return 1"
      ]
    },
    {
      "cell_type": "code",
      "execution_count": null,
      "metadata": {
        "id": "FqTuPWYxuP0_"
      },
      "outputs": [],
      "source": [
        "#위 함수 적용하여 부채비율구간 컬럼 생성\n",
        "filtered_df6['부채비율구간'] = filtered_df6.apply(assign_status, axis=1)"
      ]
    },
    {
      "cell_type": "code",
      "execution_count": null,
      "metadata": {
        "id": "0zMusBbWuRFH"
      },
      "outputs": [],
      "source": [
        "#부채비율구간 컬럼을 이융하여 부채비율_등급 컬럼 생성\n",
        "filtered_df6['부채비율_등급'] = filtered_df6['부채비율구간'].map({3:10, 2:5, 1:1})"
      ]
    },
    {
      "cell_type": "code",
      "execution_count": null,
      "metadata": {
        "id": "59tT-B0yubMU"
      },
      "outputs": [],
      "source": [
        "#기존 data와 merge시키기\n",
        "filtered_df6 = filtered_df6[['사업자번호','부채비율구간','부채비율_등급']]\n",
        "df = pd.merge(df,filtered_df6,how='left',on='사업자번호')"
      ]
    },
    {
      "cell_type": "markdown",
      "metadata": {
        "id": "IDzjQYKzu956"
      },
      "source": [
        "##### 2-1-7 수출여부"
      ]
    },
    {
      "cell_type": "code",
      "execution_count": null,
      "metadata": {
        "id": "Eh0Jo6WDuceZ"
      },
      "outputs": [],
      "source": [
        "filtered_df5=df.copy()"
      ]
    },
    {
      "cell_type": "code",
      "execution_count": null,
      "metadata": {
        "id": "Rz1Ws04yvC3y"
      },
      "outputs": [],
      "source": [
        "#수출여부 컬럼 만들기\n",
        "def assign_export_status(row):\n",
        "    if row['수출 여부 (EU)'] == '유' and row['수출 여부 (US)'] == '유':\n",
        "      return 4\n",
        "    elif row['수출 여부 (EU)'] == '유':\n",
        "      return 3\n",
        "    elif row['수출 여부 (US)'] == '유':\n",
        "      return 2\n",
        "    elif pd.notna(row['수출액_2022']):\n",
        "      return 1\n",
        "    else:\n",
        "      return 0"
      ]
    },
    {
      "cell_type": "code",
      "execution_count": null,
      "metadata": {
        "id": "81t6vphNvEEH"
      },
      "outputs": [],
      "source": [
        "#위의 함수를 사용하여 수출여부 컬럼 생성\n",
        "filtered_df5['수출여부'] = filtered_df5.apply(assign_export_status, axis=1)"
      ]
    },
    {
      "cell_type": "code",
      "execution_count": null,
      "metadata": {
        "id": "th6ymBcuvH4c"
      },
      "outputs": [],
      "source": [
        "#수출여부 컬럼을 사용하여 수출여부_등급 컬럼 생성\n",
        "filtered_df5['수출여부_등급'] = filtered_df5['수출여부'].map({4:10, 3:9, 2:8, 1:5, 0:1})"
      ]
    },
    {
      "cell_type": "code",
      "execution_count": null,
      "metadata": {
        "id": "ZOfqir-MvNTo"
      },
      "outputs": [],
      "source": [
        "#코데이터에서 제공받은 데이터에서 누락된 기업의 수출여부를 채우기 위한 변경\n",
        "\n",
        "#밑에 변경해준 총 15개의 기업은 산업단지공단에서 ESG 컨설팅 사업을 지원해준 기업임\n",
        "#밑에 변경해준 기업들은 코데이터에서 제공받은 데이터 상으로 했을 때, 수출여부_등급 컬럼에서 1값이 나옴(수출여부(EU)와수출여부(US)의 value가 '무'이며 수출액_2022은 null값임)\n",
        "#하지만 산단공측에서 제공받은 지원사업 참여기업 데이터를 확인해 보았을때, 해당 15개 기업은 수출기업이라고 나와있음\n",
        "#따라서 15개 기업의 수출여부_등급 컬럼의 값을 5(이외 국가 수출의 값)로 변경해줌\n",
        "\n",
        "filtered_df5.loc[(filtered_df5['사업자번호'] == 1078180508), '수출여부_등급']=5\n",
        "filtered_df5.loc[(filtered_df5['사업자번호'] == 1378107186), '수출여부_등급']=5\n",
        "filtered_df5.loc[(filtered_df5['사업자번호'] == 1398125536), '수출여부_등급']=5\n",
        "filtered_df5.loc[(filtered_df5['사업자번호'] == 3148100664), '수출여부_등급']=5\n",
        "filtered_df5.loc[(filtered_df5['사업자번호'] == 6108136319), '수출여부_등급']=5\n",
        "filtered_df5.loc[(filtered_df5['사업자번호'] == 1298156556), '수출여부_등급']=5\n",
        "\n",
        "filtered_df5.loc[(filtered_df5['사업자번호'] == 1318607975), '수출여부_등급']=5\n",
        "filtered_df5.loc[(filtered_df5['사업자번호'] == 5030449650), '수출여부_등급']=5\n",
        "filtered_df5.loc[(filtered_df5['사업자번호'] == 5138152551), '수출여부_등급']=5\n",
        "filtered_df5.loc[(filtered_df5['사업자번호'] == 2148647888), '수출여부_등급']=5\n",
        "\n",
        "filtered_df5.loc[(filtered_df5['사업자번호'] == 5038192857), '수출여부_등급']=5\n",
        "filtered_df5.loc[(filtered_df5['사업자번호'] == 5148128277), '수출여부_등급']=5\n",
        "filtered_df5.loc[(filtered_df5['사업자번호'] == 5038601273), '수출여부_등급']=5\n",
        "filtered_df5.loc[(filtered_df5['사업자번호'] == 5038602608), '수출여부_등급']=5\n",
        "filtered_df5.loc[(filtered_df5['사업자번호'] == 1088159497), '수출여부_등급']=5"
      ]
    },
    {
      "cell_type": "code",
      "execution_count": null,
      "metadata": {
        "id": "Y7TX3vJJwDAM"
      },
      "outputs": [],
      "source": [
        "#기존 data와 merge시키기\n",
        "filtered_df5 = filtered_df5[['사업자번호','수출여부','수출여부_등급']]\n",
        "df = pd.merge(df,filtered_df5,how='left',on='사업자번호')"
      ]
    },
    {
      "cell_type": "markdown",
      "metadata": {
        "id": "mNTARDWxwRn8"
      },
      "source": [
        "##### 2-1-8 업종별 수출액 비중"
      ]
    },
    {
      "cell_type": "code",
      "execution_count": null,
      "metadata": {
        "id": "9wAtoHKOwQmg"
      },
      "outputs": [],
      "source": [
        "filtered_df7 = df.copy()\n",
        "filtered_df7=filtered_df7.dropna(subset=['중분류'])"
      ]
    },
    {
      "cell_type": "code",
      "execution_count": null,
      "metadata": {
        "id": "HdgPss3ywgFf"
      },
      "outputs": [],
      "source": [
        "#업종별수출비중_등급 컬럼 생성\n",
        "filtered_df7['업종별수출비중_등급'] = filtered_df7['중분류'].map({'석유화학':10,\n",
        "                                                      '철강':9,'전기전자':8,'기계':8,'운송장비':7,\n",
        "                                                      '음식료':6,'정보통신':6,\n",
        "                                                      '섬유의복':5,'기타제조':4,'목재종이':3,'비금속':2, '출판업':1, '기타비제조':1})"
      ]
    },
    {
      "cell_type": "code",
      "execution_count": null,
      "metadata": {
        "id": "E0ih5wfqwtMV"
      },
      "outputs": [],
      "source": [
        "#기존 data와 merge시키기\n",
        "filtered_df7 = filtered_df7[['사업자번호','업종별수출비중_등급']]\n",
        "df = pd.merge(df,filtered_df7,how='left',on='사업자번호')"
      ]
    },
    {
      "cell_type": "markdown",
      "metadata": {
        "id": "5xq5wvZdxEic"
      },
      "source": [
        "#### 2-2 점수 계산"
      ]
    },
    {
      "cell_type": "code",
      "execution_count": null,
      "metadata": {
        "id": "HqHXPzeGw5h5"
      },
      "outputs": [],
      "source": [
        "#각 지표별 등급을 만들어준 컬럼의 타입을 categorical에서 float으로 변경해줌 -> 계산을 위해\n",
        "df['영업이익율_등급'] = df['영업이익율_등급'].astype(float)\n",
        "df['매출액평균_등급'] = df['매출액평균_등급'].astype(float)\n",
        "df['매출액대비연구개발비_등급'] = df['매출액대비연구개발비_등급'].astype(float)\n",
        "df['부채비율_등급'] = df['부채비율_등급'].astype(float)\n",
        "df['기업규모_등급'] = df['기업규모_등급'].astype(float)\n",
        "df['특허이노메인_등급'] = df['특허이노메인_등급'].astype(float)\n",
        "df['수출여부_등급'] = df['수출여부_등급'].astype(float)\n",
        "df['업종별수출비중_등급'] = df['업종별수출비중_등급'].astype(float)"
      ]
    },
    {
      "cell_type": "code",
      "execution_count": null,
      "metadata": {
        "id": "9n4XyWyrxmOA"
      },
      "outputs": [],
      "source": [
        "#등급의 값이 null이라는 것은 지표에 사용된 컬럼의 값이 null이라는 뜻으로 정보가 없다는 의미\n",
        "#정보가 없으면 1점으로 만들어줌\n",
        "columns_to_fill = ['영업이익율_등급', '매출액평균_등급','매출액대비연구개발비_등급', '부채비율_등급', '기업규모_등급', '특허이노메인_등급', '수출여부_등급', '업종별수출비중_등급']\n",
        "\n",
        "df[columns_to_fill] = df[columns_to_fill].fillna(1)"
      ]
    },
    {
      "cell_type": "code",
      "execution_count": null,
      "metadata": {
        "id": "RLuQCK8jycCx"
      },
      "outputs": [],
      "source": [
        "#점수 계산\n",
        "\n",
        "#각 지표별로 점수와 가중치를 곱해 총 점수를 구함\n",
        "df['점수'] = ((a/total) * df['영업이익율_등급']) + (h/total)*df['매출액평균_등급'] + ((b/total) * df['매출액대비연구개발비_등급']) + ((c/total)* df['부채비율_등급']) + ((d/total) * df['기업규모_등급']) + ((e/total) * df['특허이노메인_등급']) + ((f/total) * df['수출여부_등급'] + abs(g/total) * df['업종별수출비중_등급'])"
      ]
    },
    {
      "cell_type": "markdown",
      "metadata": {
        "id": "6zBdW3gm3FrT"
      },
      "source": [
        "##### 2-3 등급화\n",
        "###### -> 1-5등급 + 정보없음"
      ]
    },
    {
      "cell_type": "code",
      "execution_count": null,
      "metadata": {
        "id": "8XpFXsfbzgTx"
      },
      "outputs": [],
      "source": [
        "#min값을 1로 설정하였을 때, 1값은 안들어가므로 min값은 0.9999999로 설정\n",
        "min_value = 0.9999999\n",
        "max_value = 10\n",
        "\n",
        "# 5개의 구간으로 나누기 위해 6개의 경계값을 생성\n",
        "bins = np.linspace(min_value, max_value, num=6)\n",
        "\n",
        "# 생성된 경계값을 사용하여 데이터를 등급화(1-5등급으로 등급화)\n",
        "df['등급'] = pd.cut(df['점수'], bins=bins, labels=[5, 4, 3, 2, 1], include_lowest=True)"
      ]
    },
    {
      "cell_type": "markdown",
      "metadata": {
        "id": "z6_3XOl03Swt"
      },
      "source": [
        "##### 2-3-1 정보없음 등급 추가"
      ]
    },
    {
      "cell_type": "code",
      "execution_count": null,
      "metadata": {
        "id": "RDEMrZE9090S"
      },
      "outputs": [],
      "source": [
        "#아무 정보가 없어서 5등급이 나온 기업은 정보없음 등급으로 설정하기 위한 함수\n",
        "def check_null(row):\n",
        "  if(pd.isna(row['영업이익율']) & pd.isna(row['매출액평균']) & pd.isna(row['매출액대비연구개발비']) & pd.isna(row['부채비율구간']) & pd.isna(row['기업규모_수정'])\n",
        "  & (row['특허이노메인_등급']==1) & (row['수출여부']==0) & (row['업종별수출비중_등급']==1)):\n",
        "    return None\n",
        "  else:\n",
        "    return row['등급']"
      ]
    },
    {
      "cell_type": "code",
      "execution_count": null,
      "metadata": {
        "id": "go49fiAJ3Zx8"
      },
      "outputs": [],
      "source": [
        "df['등급'] = df.apply(check_null, axis=1)"
      ]
    }
  ],
  "metadata": {
    "colab": {
      "collapsed_sections": [
        "1lXJu3lHqCvS",
        "25Wu45ZJrSID"
      ],
      "provenance": []
    },
    "kernelspec": {
      "display_name": "Python 3",
      "name": "python3"
    },
    "language_info": {
      "name": "python"
    }
  },
  "nbformat": 4,
  "nbformat_minor": 0
}

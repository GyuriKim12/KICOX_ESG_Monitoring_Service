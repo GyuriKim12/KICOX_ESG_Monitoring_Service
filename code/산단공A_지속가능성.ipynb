{
  "cells": [
    {
      "cell_type": "markdown",
      "metadata": {
        "id": "1E7U1k9W31xN"
      },
      "source": [
        "### 필요한 패키지 임포트 및 데이터 불러오기"
      ]
    },
    {
      "cell_type": "code",
      "execution_count": null,
      "metadata": {
        "id": "1Mc2irse5DDF"
      },
      "outputs": [],
      "source": [
        "import pandas as pd"
      ]
    },
    {
      "cell_type": "code",
      "execution_count": null,
      "metadata": {
        "id": "YeYg52uQ7VKo"
      },
      "outputs": [],
      "source": [
        "data = pd.read_excel('/content/drive/MyDrive/Colab Notebooks/1212_모델링완료.xlsx')"
      ]
    },
    {
      "cell_type": "markdown",
      "metadata": {
        "id": "u3pigHzU7gsV"
      },
      "source": [
        "### 1. 긍정요인,부정요인 관련 컬럼 생성"
      ]
    },
    {
      "cell_type": "markdown",
      "metadata": {
        "id": "xtY1K_bF7yGi"
      },
      "source": [
        "#### 1-1 매출액증가율"
      ]
    },
    {
      "cell_type": "code",
      "execution_count": null,
      "metadata": {
        "id": "XAC1Q7CG7e7Z"
      },
      "outputs": [],
      "source": [
        "sell=data.copy()\n",
        "sell=sell.dropna(subset=['매출액_2022'])\n",
        "sell=sell.dropna(subset=['매출액_2021'])\n",
        "sell=sell[sell['매출액_2021']!=0]"
      ]
    },
    {
      "cell_type": "code",
      "execution_count": null,
      "metadata": {
        "id": "HVCkSSsY8X1H"
      },
      "outputs": [],
      "source": [
        "#매출액증가율 컬럼 생성\n",
        "sell['매출액증가율']=(sell['매출액_2022']-sell['매출액_2021'])/sell['매출액_2021']*100"
      ]
    },
    {
      "cell_type": "code",
      "execution_count": null,
      "metadata": {
        "id": "sZtoYXTU82ki"
      },
      "outputs": [],
      "source": [
        "sell=sell[['사업자번호','매출액증가율']]"
      ]
    },
    {
      "cell_type": "code",
      "execution_count": null,
      "metadata": {
        "id": "9TJEKqEo9JqQ"
      },
      "outputs": [],
      "source": [
        "#만들어준 컬럼을 기존의 data와 merge\n",
        "data=pd.merge(data,sell,how='left',on='사업자번호')"
      ]
    },
    {
      "cell_type": "code",
      "execution_count": null,
      "metadata": {
        "id": "yjILFcww9Ame"
      },
      "outputs": [],
      "source": [
        "#매출액증가긍정\n",
        "\n",
        "#매출액증가율이 0초과이면 전년대비매출액증가이며, 1값이 들어감\n",
        "data['매출액증가긍정'] = (data['매출액증가율'] > 0).astype(int)\n",
        "data['매출액증가부정'] = (data['매출액증가율'] < 0).astype(int)"
      ]
    },
    {
      "cell_type": "markdown",
      "metadata": {
        "id": "lJN7WI7W-ycm"
      },
      "source": [
        "#### 1-2 벤처기업"
      ]
    },
    {
      "cell_type": "code",
      "execution_count": null,
      "metadata": {
        "id": "qTJzPgyhPSSQ"
      },
      "outputs": [],
      "source": [
        "filtered_df=None\n",
        "filtered_df=data.copy()"
      ]
    },
    {
      "cell_type": "code",
      "execution_count": null,
      "metadata": {
        "id": "4B5p1bipPTkD"
      },
      "outputs": [],
      "source": [
        "#벤처 기업은 1값을 가지고 아니면 0값을 가지는 함수 구현\n",
        "def venture(row):\n",
        "  if (row['벤처기업여부']=='유'):\n",
        "    return 1\n",
        "  else:\n",
        "    return 0"
      ]
    },
    {
      "cell_type": "code",
      "execution_count": null,
      "metadata": {
        "id": "GwXaPkLZPVC0"
      },
      "outputs": [],
      "source": [
        "filtered_df['벤처기업'] = filtered_df.apply(venture, axis=1)"
      ]
    },
    {
      "cell_type": "code",
      "execution_count": null,
      "metadata": {
        "id": "scuR55YiPttY"
      },
      "outputs": [],
      "source": [
        "filtered_df=filtered_df[['사업자번호','벤처기업']]"
      ]
    },
    {
      "cell_type": "code",
      "execution_count": null,
      "metadata": {
        "id": "sXybXzHPPxh7"
      },
      "outputs": [],
      "source": [
        "#기존 데이터와 merge\n",
        "data=pd.merge(data,filtered_df,how='left',on='사업자번호')"
      ]
    },
    {
      "cell_type": "markdown",
      "metadata": {
        "id": "TtQG-QVNwars"
      },
      "source": [
        "#### 1-3 메인비즈 or 이노비즈 기업"
      ]
    },
    {
      "cell_type": "code",
      "execution_count": null,
      "metadata": {
        "id": "XEC1WyZOOv54"
      },
      "outputs": [],
      "source": [
        "filtered_df=None\n",
        "filtered_df=data.copy()"
      ]
    },
    {
      "cell_type": "code",
      "execution_count": null,
      "metadata": {
        "id": "rrY-zT5TO4uf"
      },
      "outputs": [],
      "source": [
        "#메인비즈기업과 이노비즈기업인 기업은 1값을 가지고 아니면 0값을 가지는 함수 구현\n",
        "def eno(row):\n",
        "  if (row['이노비즈여부']=='유' or row['메인비즈여부']=='유'):\n",
        "    return 1\n",
        "  else:\n",
        "    return 0"
      ]
    },
    {
      "cell_type": "code",
      "execution_count": null,
      "metadata": {
        "id": "94C_WWSOO9QU"
      },
      "outputs": [],
      "source": [
        "#벤처이노여부 컬럼 생성\n",
        "filtered_df['메인이노여부'] = filtered_df.apply(eno, axis=1)"
      ]
    },
    {
      "cell_type": "code",
      "execution_count": null,
      "metadata": {
        "id": "JbKNj85kPKfk"
      },
      "outputs": [],
      "source": [
        "filtered_df=filtered_df[['사업자번호','메인이노여부']]"
      ]
    },
    {
      "cell_type": "code",
      "execution_count": null,
      "metadata": {
        "id": "fCpb96urPNt-"
      },
      "outputs": [],
      "source": [
        "#기존 데이터와 merge\n",
        "data=pd.merge(data,filtered_df,how='left',on='사업자번호')"
      ]
    },
    {
      "cell_type": "markdown",
      "metadata": {
        "id": "twpSI0ORAFwM"
      },
      "source": [
        "#### 1-4 강소기업\n"
      ]
    },
    {
      "cell_type": "code",
      "execution_count": null,
      "metadata": {
        "id": "tdP90ddkAFKD"
      },
      "outputs": [],
      "source": [
        "df = pd.read_excel('/content/drive/MyDrive/Colab Notebooks/강소기업전체리스트.xlsx')"
      ]
    },
    {
      "cell_type": "code",
      "execution_count": null,
      "metadata": {
        "id": "TqXf0xGlCZ6V"
      },
      "outputs": [],
      "source": [
        "#중복된 사업자번호 삭제\n",
        "df=df.drop_duplicates('사업자번호')"
      ]
    },
    {
      "cell_type": "code",
      "execution_count": null,
      "metadata": {
        "id": "PW1J0QpoAYNh"
      },
      "outputs": [],
      "source": [
        "#기존 데이터에서 강소기업에 해당하는 사업자번호가 있다면, 해당 기업의 강소기업여부 컬럼의 값을 1로 설정, 아니면 0으로 설정\n",
        "data = pd.merge(data, df[['사업자번호']], on='사업자번호' ,how='left', indicator=True)\n",
        "\n",
        "data['강소기업여부'] = data['_merge'].map({'both': 1, 'left_only': 0})\n",
        "\n",
        "#사용 안하는 컬럼 삭제\n",
        "data.drop(columns='_merge', inplace=True)"
      ]
    },
    {
      "cell_type": "markdown",
      "metadata": {
        "id": "xFwnSW0ICkia"
      },
      "source": [
        "#### 1-5 중대재해여부"
      ]
    },
    {
      "cell_type": "code",
      "execution_count": null,
      "metadata": {
        "id": "sfGASspYBdqD"
      },
      "outputs": [],
      "source": [
        "df2=pd.read_excel('/content/drive/MyDrive/Colab Notebooks/산업재해발생기업_사업자번호.xlsx')"
      ]
    },
    {
      "cell_type": "code",
      "execution_count": null,
      "metadata": {
        "id": "l6SDkqq6DCkS"
      },
      "outputs": [],
      "source": [
        "#산업재해데이터\n",
        "data = pd.merge(data, df2[['사업자등록번호']], left_on='사업자번호', right_on='사업자등록번호',how='left', indicator=True)\n",
        "\n",
        "#df2에 있는 사업자번호가 data에 있으면 1 값을 가지고 아니라면 0 값을 가짐\n",
        "data['중대재해여부'] = data['_merge'].map({'both': 1, 'left_only': 0})\n",
        "\n",
        "#사용 안하는 컬럼 삭제\n",
        "data.drop(columns='_merge', inplace=True)"
      ]
    },
    {
      "cell_type": "markdown",
      "metadata": {
        "id": "CVj-ypiIFCA5"
      },
      "source": [
        "### 2. 긍정요인수, 부정요인수 컬럼 생성"
      ]
    },
    {
      "cell_type": "markdown",
      "metadata": {
        "id": "SZGhfrDixYNu"
      },
      "source": [
        "#### 2-1 긍정요인수"
      ]
    },
    {
      "cell_type": "code",
      "execution_count": null,
      "metadata": {
        "id": "9PupbwYZExEA"
      },
      "outputs": [],
      "source": [
        "data['긍정요인수'] = data['매출액증가긍정'] + data['ISO14001유무'] + data['강소기업여부'] + data['메인이노여부'] + data['벤처기업']"
      ]
    },
    {
      "cell_type": "markdown",
      "metadata": {
        "id": "GCz1NqSDxczz"
      },
      "source": [
        "#### 2-2 부정요인수"
      ]
    },
    {
      "cell_type": "code",
      "execution_count": null,
      "metadata": {
        "id": "NE9Hws-EFRI3"
      },
      "outputs": [],
      "source": [
        "data['부정요인수'] = data['매출액증가부정'] + data['중대재해여부'] + data['공정거래법규위반여부'] + data['국세및지방세체납여부']"
      ]
    },
    {
      "cell_type": "markdown",
      "metadata": {
        "id": "nRMJGn6ZDUYe"
      },
      "source": [
        "### 3. 긍정요인 컬럼 생성"
      ]
    },
    {
      "cell_type": "markdown",
      "metadata": {
        "id": "wFp7p5ImDczD"
      },
      "source": [
        "#### 3-1 ISO14001 유무"
      ]
    },
    {
      "cell_type": "code",
      "execution_count": null,
      "metadata": {
        "id": "ew-r7gjXDJoS"
      },
      "outputs": [],
      "source": [
        "#ISO01001유무값이 1이면 ISO14001 인증 받음 이라는 값 가지는 함수 구현\n",
        "def assign_iso(row):\n",
        "    if row['ISO14001유무']==1:\n",
        "        return 'ISO14001 인증 받음'\n",
        "    else:\n",
        "      return None"
      ]
    },
    {
      "cell_type": "code",
      "execution_count": null,
      "metadata": {
        "id": "ViFzdRzoDgjX"
      },
      "outputs": [],
      "source": [
        "#위 함수를 사용하여 컬럼 생성\n",
        "data['긍정ISO14001유무'] = data.apply(assign_iso, axis=1)"
      ]
    },
    {
      "cell_type": "markdown",
      "metadata": {
        "id": "EMCQV_AfvKvN"
      },
      "source": [
        "#### 3-2 벤처기업 유무"
      ]
    },
    {
      "cell_type": "code",
      "execution_count": null,
      "metadata": {
        "id": "qZVl808Zu4DP"
      },
      "outputs": [],
      "source": [
        "def venture(row):\n",
        "  if (row['벤처기업여부']=='유'):\n",
        "    return '벤처기업'\n",
        "  else:\n",
        "    return None"
      ]
    },
    {
      "cell_type": "code",
      "execution_count": null,
      "metadata": {
        "id": "aVYVfshxvBw4"
      },
      "outputs": [],
      "source": [
        "data['긍정벤처기업유무'] = data.apply(venture, axis=1)"
      ]
    },
    {
      "cell_type": "markdown",
      "metadata": {
        "id": "BuxUYKRL6XTa"
      },
      "source": [
        "#### 3-3 메인비즈/이노비즈 유무"
      ]
    },
    {
      "cell_type": "code",
      "execution_count": null,
      "metadata": {
        "id": "zBSo890157Qp"
      },
      "outputs": [],
      "source": [
        "#메인비즈기업과 이노비즈기업인 기업은 1값을 가지고 아니면 0값을 가지는 함수 구현\n",
        "def maineno(row):\n",
        "    status = []\n",
        "\n",
        "    if row['메인비즈여부'] == '유':\n",
        "        status.append('메인비즈')\n",
        "\n",
        "    if row['이노비즈여부'] == '유':\n",
        "        status.append('이노비즈')\n",
        "\n",
        "    return '/'.join(status) if status else None"
      ]
    },
    {
      "cell_type": "code",
      "execution_count": null,
      "metadata": {
        "id": "lS27RYTg6Ht7"
      },
      "outputs": [],
      "source": [
        "data['긍정메인이노유무'] = data.apply(maineno, axis=1)"
      ]
    },
    {
      "cell_type": "markdown",
      "metadata": {
        "id": "KJllrfIyGVp9"
      },
      "source": [
        "#### 3-4 강소기업"
      ]
    },
    {
      "cell_type": "code",
      "execution_count": null,
      "metadata": {
        "id": "v4wKSZ9ZGUh6"
      },
      "outputs": [],
      "source": [
        "#강소기업 함수 구현\n",
        "def assign_gang(row):\n",
        "    if row['강소기업여부']==1:\n",
        "        return '강소기업'\n",
        "    else:\n",
        "      return None"
      ]
    },
    {
      "cell_type": "code",
      "execution_count": null,
      "metadata": {
        "id": "0oF0C9vJGdHF"
      },
      "outputs": [],
      "source": [
        "data['긍정강소기업여부'] = data.apply(assign_gang, axis=1)"
      ]
    },
    {
      "cell_type": "markdown",
      "metadata": {
        "id": "Q8J4Z-zMGh7N"
      },
      "source": [
        "#### 3-5 전년대비매출액증가"
      ]
    },
    {
      "cell_type": "code",
      "execution_count": null,
      "metadata": {
        "id": "v9IYy-FhGepc"
      },
      "outputs": [],
      "source": [
        "#매출액증가긍정 1 값이면 전년대비매출액증가 라는 값을 가지는 함수 구현\n",
        "def assign_grow_sell(row):\n",
        "    if row['매출액증가긍정']==1:\n",
        "        return '전년 대비 매출액 증가'\n",
        "    else:\n",
        "      return None"
      ]
    },
    {
      "cell_type": "code",
      "execution_count": null,
      "metadata": {
        "id": "JYYDNqOuGpzw"
      },
      "outputs": [],
      "source": [
        "data['긍정매출액증가'] = data.apply(assign_grow_sell, axis=1)"
      ]
    },
    {
      "cell_type": "markdown",
      "metadata": {
        "id": "iHojVJicG6q-"
      },
      "source": [
        "#### 긍정의지 컬럼 생성"
      ]
    },
    {
      "cell_type": "code",
      "execution_count": null,
      "metadata": {
        "id": "peS5e7OMGsmP"
      },
      "outputs": [],
      "source": [
        "#긍정의지 컬럼 생성을 위한 함수 구현\n",
        "def good_e(row):\n",
        "    valid_sales = [sale for sale in [row['긍정매출액증가'],row['긍정메인이노유무'], row['긍정벤처기업유무'],row['긍정강소기업여부'], row['긍정ISO14001유무']] if pd.notna(sale)]\n",
        "    text=''\n",
        "    for i in range(len(valid_sales)):\n",
        "      if(i==len(valid_sales)-1):\n",
        "        text+=valid_sales[i]\n",
        "      else:\n",
        "        text+=valid_sales[i]+', '\n",
        "    return text"
      ]
    },
    {
      "cell_type": "code",
      "execution_count": null,
      "metadata": {
        "id": "mQhpz_yNG8gW"
      },
      "outputs": [],
      "source": [
        "data['긍정의지'] = data.apply(good_e, axis=1)"
      ]
    },
    {
      "cell_type": "code",
      "execution_count": null,
      "metadata": {
        "colab": {
          "base_uri": "https://localhost:8080/"
        },
        "id": "MPoaQN21vRXC",
        "outputId": "ce718dff-2de3-48e4-ee62-a8043a8e14e5"
      },
      "outputs": [
        {
          "data": {
            "text/plain": [
              "11285    전년 대비 매출액 증가, 이노비즈, 강소기업, ISO14001 인증 받음\n",
              "Name: 긍정의지, dtype: object"
            ]
          },
          "execution_count": 46,
          "metadata": {},
          "output_type": "execute_result"
        }
      ],
      "source": [
        "data[data['기업명']=='(주)엠케이켐앤텍']['긍정의지']"
      ]
    },
    {
      "cell_type": "markdown",
      "metadata": {
        "id": "6DVMK1xKHBKA"
      },
      "source": [
        "### 4. 부정요인 컬럼 생성"
      ]
    },
    {
      "cell_type": "markdown",
      "metadata": {
        "id": "aXCwsI0bHHRv"
      },
      "source": [
        "#### 4-1 국세및지방세체납여부"
      ]
    },
    {
      "cell_type": "code",
      "execution_count": null,
      "metadata": {
        "id": "KYlAuzjDG9_6"
      },
      "outputs": [],
      "source": [
        "def assign_re(row):\n",
        "    if row['국세및지방세체납여부']==1:\n",
        "        return '국세 및 지방세 체납 이력 존재'\n",
        "    else:\n",
        "      return None"
      ]
    },
    {
      "cell_type": "code",
      "execution_count": null,
      "metadata": {
        "id": "F96qpcziHKey"
      },
      "outputs": [],
      "source": [
        "data['부정국세및지방세체납여부'] = data.apply(assign_re, axis=1)"
      ]
    },
    {
      "cell_type": "markdown",
      "metadata": {
        "id": "t__48FI8HNWh"
      },
      "source": [
        "#### 4-2 공정거래법규위반여부"
      ]
    },
    {
      "cell_type": "code",
      "execution_count": null,
      "metadata": {
        "id": "o1TgLd3qHMHY"
      },
      "outputs": [],
      "source": [
        "def assign_gong(row):\n",
        "    if row['공정거래법규위반여부']==1:\n",
        "        return '공정거래 위반 이력 존재'\n",
        "    else:\n",
        "      return None"
      ]
    },
    {
      "cell_type": "code",
      "execution_count": null,
      "metadata": {
        "id": "4LX_FJ2MHSV_"
      },
      "outputs": [],
      "source": [
        "data['부정공정거래법규위반여부'] = data.apply(assign_gong, axis=1)"
      ]
    },
    {
      "cell_type": "markdown",
      "metadata": {
        "id": "deHzOfYVHXG3"
      },
      "source": [
        "#### 4-3 중대재해여부"
      ]
    },
    {
      "cell_type": "code",
      "execution_count": null,
      "metadata": {
        "id": "-TL9brCtHUHt"
      },
      "outputs": [],
      "source": [
        "def assign_jung(row):\n",
        "    if row['중대재해여부']==1:\n",
        "        return '중대재해 발생 이력 존재'\n",
        "    else:\n",
        "      return None"
      ]
    },
    {
      "cell_type": "code",
      "execution_count": null,
      "metadata": {
        "id": "sBI3Wvn6HZvS"
      },
      "outputs": [],
      "source": [
        "data['부정중대재해여부'] = data.apply(assign_jung, axis=1)"
      ]
    },
    {
      "cell_type": "markdown",
      "metadata": {
        "id": "Qlul4kvhHgUg"
      },
      "source": [
        "#### 4-4 전년대비매출액감소"
      ]
    },
    {
      "cell_type": "code",
      "execution_count": null,
      "metadata": {
        "id": "WqD23KSaHduD"
      },
      "outputs": [],
      "source": [
        "def assign_low_sell(row):\n",
        "    if row['매출액증가부정']==1:\n",
        "        return '전년 대비 매출액 감소'\n",
        "    else:\n",
        "      return None"
      ]
    },
    {
      "cell_type": "code",
      "execution_count": null,
      "metadata": {
        "id": "jpV3aJ9AHjeM"
      },
      "outputs": [],
      "source": [
        "data['부정매출액감소'] = data.apply(assign_low_sell, axis=1)"
      ]
    },
    {
      "cell_type": "markdown",
      "metadata": {
        "id": "UO4Rj8YlHqta"
      },
      "source": [
        "#### 부정의지 컬럼 생성"
      ]
    },
    {
      "cell_type": "code",
      "execution_count": null,
      "metadata": {
        "id": "n1Ixzj66Hlqs"
      },
      "outputs": [],
      "source": [
        "def bad_e(row):\n",
        "    valid_sales = [sale for sale in [row['부정매출액감소'], row['부정국세및지방세체납여부'], row['부정공정거래법규위반여부'], row['부정중대재해여부']] if pd.notna(sale)]\n",
        "    text=''\n",
        "    for i in range(len(valid_sales)):\n",
        "      if(i==len(valid_sales)-1):\n",
        "        text+=valid_sales[i]\n",
        "      else:\n",
        "        text+=valid_sales[i]+', '\n",
        "    return text"
      ]
    },
    {
      "cell_type": "code",
      "execution_count": null,
      "metadata": {
        "id": "pAATc-NDHsiD"
      },
      "outputs": [],
      "source": [
        "data['부정의지'] = data.apply(bad_e, axis=1)"
      ]
    },
    {
      "cell_type": "markdown",
      "metadata": {
        "id": "zaOcQQoZHx6h"
      },
      "source": [
        "### 5. 긍정전체, 부정전체 컬럼 생성\n",
        "#### >> 세부페이지용으로 실천가능성과 지표상 긍부정 요인을 추가"
      ]
    },
    {
      "cell_type": "markdown",
      "metadata": {
        "id": "TIqApu0LIoCa"
      },
      "source": [
        "#### 관련 컬럼 생성 1. 벤처/메인비즈/이노비즈"
      ]
    },
    {
      "cell_type": "code",
      "execution_count": null,
      "metadata": {
        "id": "iHB07hvGHuCr"
      },
      "outputs": [],
      "source": [
        "def assign_t(row):\n",
        "    status = []\n",
        "\n",
        "    if row['벤처기업여부'] == '유':\n",
        "      status.append('벤처기업')\n",
        "\n",
        "    if row['메인비즈여부'] == '유':\n",
        "        status.append('메인비즈')\n",
        "\n",
        "    if row['이노비즈여부'] == '유':\n",
        "        status.append('이노비즈')\n",
        "\n",
        "    return '/'.join(status) if status else None"
      ]
    },
    {
      "cell_type": "code",
      "execution_count": null,
      "metadata": {
        "id": "4Pa95QSNKAs8"
      },
      "outputs": [],
      "source": [
        "data['긍정벤처메인이노'] = data.apply(assign_t, axis=1)"
      ]
    },
    {
      "cell_type": "markdown",
      "metadata": {
        "id": "dsNNgTIMKLwh"
      },
      "source": [
        "#### 관련 컬럼 생성 2. 수출여부"
      ]
    },
    {
      "cell_type": "code",
      "execution_count": null,
      "metadata": {
        "id": "0Pb3U4poKLGf"
      },
      "outputs": [],
      "source": [
        "def assign_trans(row):\n",
        "    if row['수출여부_등급']==10:\n",
        "        return 'EU•US 수출기업'\n",
        "    else:\n",
        "      return None"
      ]
    },
    {
      "cell_type": "code",
      "execution_count": null,
      "metadata": {
        "id": "HB4QNz2fKXnY"
      },
      "outputs": [],
      "source": [
        "data['긍정수출여부'] = data.apply(assign_trans, axis=1)"
      ]
    },
    {
      "cell_type": "markdown",
      "metadata": {
        "id": "GIzuIVw6Kbmc"
      },
      "source": [
        "#### 관련 컬럼 생성 3. 부채비율"
      ]
    },
    {
      "cell_type": "code",
      "execution_count": null,
      "metadata": {
        "id": "RnCxYlMFKZcR"
      },
      "outputs": [],
      "source": [
        "def assign_fan(row):\n",
        "    if ((pd.notna(row['부채비율구간'])) & (row['부채비율_등급']))==1:\n",
        "        return '부채비율 400% 이상'\n",
        "    else:\n",
        "      return None"
      ]
    },
    {
      "cell_type": "code",
      "execution_count": null,
      "metadata": {
        "id": "DjmEs3gVKxmR"
      },
      "outputs": [],
      "source": [
        "data['부정부채비율'] = data.apply(assign_fan, axis=1)"
      ]
    },
    {
      "cell_type": "markdown",
      "metadata": {
        "id": "61tVI_oXLEjh"
      },
      "source": [
        "#### 관련 컬럼 생성 4. 영업이익율"
      ]
    },
    {
      "cell_type": "code",
      "execution_count": null,
      "metadata": {
        "id": "BGeKdTBbLCXX"
      },
      "outputs": [],
      "source": [
        "def assign_sale(row):\n",
        "      if row['영업이익율_등급']==10:\n",
        "        return '영업이익율 상위 10%'\n",
        "      else:\n",
        "        return None"
      ]
    },
    {
      "cell_type": "code",
      "execution_count": null,
      "metadata": {
        "id": "S22ueAuELHMi"
      },
      "outputs": [],
      "source": [
        "data['긍정영업이익율'] = data.apply(assign_sale, axis=1)"
      ]
    },
    {
      "cell_type": "markdown",
      "metadata": {
        "id": "2niGW74PLKvI"
      },
      "source": [
        "#### 관련 컬럼 생성 5. 매출액대비연구개발비"
      ]
    },
    {
      "cell_type": "code",
      "execution_count": null,
      "metadata": {
        "id": "xZZsp0sZLRzA"
      },
      "outputs": [],
      "source": [
        "def assign_devel(row):\n",
        "      if row['매출액대비연구개발비_등급']==10:\n",
        "        return '매출액대비연구개발비 상위 10%'\n",
        "      else:\n",
        "        return None"
      ]
    },
    {
      "cell_type": "code",
      "execution_count": null,
      "metadata": {
        "id": "yQ_zaYnHLUjc"
      },
      "outputs": [],
      "source": [
        "data['긍정매출액대비연구개발비'] = data.apply(assign_devel, axis=1)"
      ]
    },
    {
      "cell_type": "markdown",
      "metadata": {
        "id": "BxXTO_m7T5ec"
      },
      "source": [
        "#### 관련 컬럼 생성 6. 특허보유"
      ]
    },
    {
      "cell_type": "code",
      "execution_count": null,
      "metadata": {
        "id": "nlYXefTPTuNa"
      },
      "outputs": [],
      "source": [
        "def assign_assign(row):\n",
        "  if row['특허등록건수'] != 0:\n",
        "        return ('특허 보유')"
      ]
    },
    {
      "cell_type": "code",
      "execution_count": null,
      "metadata": {
        "id": "LqEMjPpcT4rM"
      },
      "outputs": [],
      "source": [
        "data['긍정특허보유'] = data.apply(assign_assign, axis=1)"
      ]
    },
    {
      "cell_type": "markdown",
      "metadata": {
        "id": "GJPp1yB8K4SI"
      },
      "source": [
        "#### 5-1 긍정전체 컬럼 생성"
      ]
    },
    {
      "cell_type": "code",
      "execution_count": null,
      "metadata": {
        "id": "Ql2digBEKzbZ"
      },
      "outputs": [],
      "source": [
        "def total_good(row):\n",
        "    valid_sales = [sale for sale in [row['긍정수출여부'],row['긍정영업이익율'],row['긍정매출액대비연구개발비'], row['긍정강소기업여부'], row['긍정매출액증가'], row['긍정ISO14001유무'], row['긍정특허보유'], row['긍정벤처메인이노'],] if pd.notna(sale)]\n",
        "    text=''\n",
        "    for i in range(len(valid_sales)):\n",
        "      if(i==len(valid_sales)-1):\n",
        "        text+=valid_sales[i]\n",
        "      else:\n",
        "        text+=valid_sales[i]+', '\n",
        "    return text"
      ]
    },
    {
      "cell_type": "code",
      "execution_count": null,
      "metadata": {
        "id": "dKBdv1tHLWtS"
      },
      "outputs": [],
      "source": [
        "data['긍정전체'] = data.apply(total_good, axis=1)"
      ]
    },
    {
      "cell_type": "markdown",
      "metadata": {
        "id": "sf4RMiojLbkU"
      },
      "source": [
        "#### 5-2 부정전체 컬럼 생성"
      ]
    },
    {
      "cell_type": "code",
      "execution_count": null,
      "metadata": {
        "id": "2szvJcjfLYCa"
      },
      "outputs": [],
      "source": [
        "def total_bad(row):\n",
        "    valid_sales = [sale for sale in [row['부정부채비율'],row['부정매출액감소'], row['부정국세및지방세체납여부'], row['부정공정거래법규위반여부'], row['부정중대재해여부']] if pd.notna(sale)]\n",
        "    text=''\n",
        "    for i in range(len(valid_sales)):\n",
        "      if(i==len(valid_sales)-1):\n",
        "        text+=valid_sales[i]\n",
        "      else:\n",
        "        text+=valid_sales[i]+', '\n",
        "    return text"
      ]
    },
    {
      "cell_type": "code",
      "execution_count": null,
      "metadata": {
        "id": "cUi9WSL4Ldob"
      },
      "outputs": [],
      "source": [
        "data['부정전체'] = data.apply(total_bad, axis=1)"
      ]
    },
    {
      "cell_type": "code",
      "execution_count": null,
      "metadata": {
        "id": "e0iZLjxsLfwv"
      },
      "outputs": [],
      "source": [
        "#쓰지 않는 컬럼 삭제\n",
        "data=data.drop(columns=['벤처기업','긍정벤처메인이노','긍정수출여부','긍정영업이익율','긍정매출액대비연구개발비','긍정강소기업여부','긍정매출액증가','긍정ISO14001유무',\n",
        "                        '긍정벤처기업유무','긍정메인이노유무','긍정특허보유','부정부채비율','부정매출액감소', '부정국세및지방세체납여부',\n",
        "                        '부정공정거래법규위반여부', '부정중대재해여부', '사업자등록번호'])"
      ]
    },
    {
      "cell_type": "code",
      "execution_count": null,
      "metadata": {
        "colab": {
          "base_uri": "https://localhost:8080/"
        },
        "id": "nZY4ROkyvt5B",
        "outputId": "16d2dbc1-cc20-4900-97dc-f447ffebd560"
      },
      "outputs": [
        {
          "data": {
            "text/plain": [
              "11285    강소기업, 전년 대비 매출액 증가, ISO14001 인증 받음, 특허 보유, 이노비즈\n",
              "Name: 긍정전체, dtype: object"
            ]
          },
          "execution_count": 74,
          "metadata": {},
          "output_type": "execute_result"
        }
      ],
      "source": [
        "data[data['기업명']=='(주)엠케이켐앤텍']['긍정전체']"
      ]
    },
    {
      "cell_type": "markdown",
      "metadata": {
        "id": "ERpoXA3xDEfk"
      },
      "source": [
        "### 6. 상세페이지 컬럼 추가 생성"
      ]
    },
    {
      "cell_type": "markdown",
      "metadata": {
        "id": "scPbGF5r4PoT"
      },
      "source": [
        "#### 6-1 동종업계백분율"
      ]
    },
    {
      "cell_type": "code",
      "execution_count": null,
      "metadata": {
        "id": "I2zOECna9ic4"
      },
      "outputs": [],
      "source": [
        "filter=None"
      ]
    },
    {
      "cell_type": "code",
      "execution_count": null,
      "metadata": {
        "id": "NdTD0Pin5TAN"
      },
      "outputs": [],
      "source": [
        "#매출액_2022 없는 데이터 삭제\n",
        "filter = data.copy()\n",
        "filter = filter.dropna(subset=['매출액_2022'])"
      ]
    },
    {
      "cell_type": "code",
      "execution_count": null,
      "metadata": {
        "id": "92E6rHMg5-eY"
      },
      "outputs": [],
      "source": [
        "filter = filter.dropna(subset=['중분류'])"
      ]
    },
    {
      "cell_type": "code",
      "execution_count": null,
      "metadata": {
        "id": "YORLavZC9L7y"
      },
      "outputs": [],
      "source": [
        "filter = filter.sort_values(by=['중분류', '매출액_2022'], ascending=[True, False])"
      ]
    },
    {
      "cell_type": "code",
      "execution_count": null,
      "metadata": {
        "id": "ZoLeMZVX9TgB"
      },
      "outputs": [],
      "source": [
        "# 각 업종별 기업 수 계산\n",
        "filter['순위'] = filter.groupby('중분류')['매출액_2022'].rank(method='dense', ascending=False)"
      ]
    },
    {
      "cell_type": "code",
      "execution_count": null,
      "metadata": {
        "id": "u3xIyddXB3Ed"
      },
      "outputs": [],
      "source": [
        "# 업종별 최대 순위 계산\n",
        "max_rank_by_industry = filter.groupby('중분류')['순위'].transform('max')"
      ]
    },
    {
      "cell_type": "code",
      "execution_count": null,
      "metadata": {
        "id": "9Dxhk6mt5liH"
      },
      "outputs": [],
      "source": [
        "filter['동종업계백분율'] = filter['순위'] / max_rank_by_industry * 100"
      ]
    },
    {
      "cell_type": "code",
      "execution_count": null,
      "metadata": {
        "id": "biP9RUu_-O-F"
      },
      "outputs": [],
      "source": [
        "filter = filter[['사업자번호','동종업계백분율']]"
      ]
    },
    {
      "cell_type": "code",
      "execution_count": null,
      "metadata": {
        "id": "gpFYNVhL-T3L"
      },
      "outputs": [],
      "source": [
        "data = pd.merge(data,filter,how='left',on='사업자번호')"
      ]
    },
    {
      "cell_type": "markdown",
      "metadata": {
        "id": "TwX0oUwq4WBt"
      },
      "source": [
        "#### 6-2 전년대비매출액증가율"
      ]
    },
    {
      "cell_type": "code",
      "execution_count": null,
      "metadata": {
        "id": "No2EzFbO-195"
      },
      "outputs": [],
      "source": [
        "filtered_df=None\n",
        "filtered_df=data.copy()\n",
        "filtered_df=filtered_df.dropna(subset=['매출액_2021'])\n",
        "filtered_df=filtered_df.dropna(subset=['매출액_2022'])"
      ]
    },
    {
      "cell_type": "code",
      "execution_count": null,
      "metadata": {
        "id": "7PMR5_xt-_nr"
      },
      "outputs": [],
      "source": [
        "filtered_df['전년대비매출액증가율']= (filtered_df['매출액_2022']-filtered_df['매출액_2021'])/filtered_df['매출액_2021']*100"
      ]
    },
    {
      "cell_type": "code",
      "execution_count": null,
      "metadata": {
        "id": "jGrjM3P4_DB_"
      },
      "outputs": [],
      "source": [
        "filtered_df=filtered_df[['사업자번호','전년대비매출액증가율']]"
      ]
    },
    {
      "cell_type": "code",
      "execution_count": null,
      "metadata": {
        "id": "MbPVaNR-_EuT"
      },
      "outputs": [],
      "source": [
        "data=pd.merge(data,filtered_df,how='left',on='사업자번호')"
      ]
    },
    {
      "cell_type": "markdown",
      "metadata": {
        "id": "NKzKFoF24ZsM"
      },
      "source": [
        "#### 6-3 전년대비영업이익증가율"
      ]
    },
    {
      "cell_type": "code",
      "execution_count": null,
      "metadata": {
        "id": "miFYdGh9_GfL"
      },
      "outputs": [],
      "source": [
        "#전년대비 영업이익증가율\n",
        "filtered_df=None\n",
        "filtered_df=data.copy()\n",
        "filtered_df=filtered_df.dropna(subset=['영업이익_2021'])\n",
        "filtered_df=filtered_df.dropna(subset=['영업이익_2022'])"
      ]
    },
    {
      "cell_type": "code",
      "execution_count": null,
      "metadata": {
        "id": "FEt1zSXr_OaM"
      },
      "outputs": [],
      "source": [
        "filtered_df['전년대비영업이익증가율']= (filtered_df['영업이익_2022']-filtered_df['영업이익_2021'])/filtered_df['영업이익_2021']*100"
      ]
    },
    {
      "cell_type": "code",
      "execution_count": null,
      "metadata": {
        "id": "oIBvY2li_SJB"
      },
      "outputs": [],
      "source": [
        "filtered_df=filtered_df[['사업자번호','전년대비영업이익증가율']]"
      ]
    },
    {
      "cell_type": "code",
      "execution_count": null,
      "metadata": {
        "id": "m2dkkUYw_VMD"
      },
      "outputs": [],
      "source": [
        "data=pd.merge(data,filtered_df,how='left',on='사업자번호')"
      ]
    },
    {
      "cell_type": "markdown",
      "metadata": {
        "id": "xNeUSgog4b-O"
      },
      "source": [
        "#### 6-4 전년대비당기순이익증가율"
      ]
    },
    {
      "cell_type": "code",
      "execution_count": null,
      "metadata": {
        "id": "lXBI6uVo_Wcj"
      },
      "outputs": [],
      "source": [
        "filtered_df=None\n",
        "filtered_df=data.copy()\n",
        "filtered_df=filtered_df.dropna(subset=['당기순이익_2021'])\n",
        "filtered_df=filtered_df.dropna(subset=['당기순이익_2022'])"
      ]
    },
    {
      "cell_type": "code",
      "execution_count": null,
      "metadata": {
        "id": "mReHIbR4_d46"
      },
      "outputs": [],
      "source": [
        "filtered_df['전년대비당기순이익증가율']= (filtered_df['당기순이익_2022']-filtered_df['당기순이익_2021'])/filtered_df['당기순이익_2021']*100"
      ]
    },
    {
      "cell_type": "code",
      "execution_count": null,
      "metadata": {
        "id": "bpjKnTsG_iod"
      },
      "outputs": [],
      "source": [
        "filtered_df=filtered_df[['사업자번호','전년대비당기순이익증가율']]"
      ]
    },
    {
      "cell_type": "code",
      "execution_count": null,
      "metadata": {
        "id": "WGIVv5NA_nC7"
      },
      "outputs": [],
      "source": [
        "data=pd.merge(data,filtered_df,how='left',on='사업자번호')"
      ]
    },
    {
      "cell_type": "markdown",
      "metadata": {
        "id": "rWD0vEMF4e26"
      },
      "source": [
        "#### 6-5 전년대비부채비율증가율"
      ]
    },
    {
      "cell_type": "code",
      "execution_count": null,
      "metadata": {
        "id": "jZ93KWj5AEaA"
      },
      "outputs": [],
      "source": [
        "filtered_df=None\n",
        "filtered_df=data.copy()\n",
        "filtered_df=filtered_df.dropna(subset=['부채비율_2021'])\n",
        "filtered_df=filtered_df.dropna(subset=['부채비율_2022'])\n",
        "filtered_df=filtered_df[filtered_df['부채비율_2021']!='자본잠식']\n",
        "filtered_df=filtered_df[filtered_df['부채비율_2022']!='자본잠식']"
      ]
    },
    {
      "cell_type": "code",
      "execution_count": null,
      "metadata": {
        "id": "J9ouQeS0AOQB"
      },
      "outputs": [],
      "source": [
        "filtered_df['부채비율_2022']=filtered_df['부채비율_2022'].astype(float)\n",
        "filtered_df['부채비율_2021']=filtered_df['부채비율_2021'].astype(float)"
      ]
    },
    {
      "cell_type": "code",
      "execution_count": null,
      "metadata": {
        "id": "VKJbceXEASqF"
      },
      "outputs": [],
      "source": [
        "filtered_df['전년대비부채비율증가율']= (filtered_df['부채비율_2022']-filtered_df['부채비율_2021'])/filtered_df['부채비율_2021']*100"
      ]
    },
    {
      "cell_type": "code",
      "execution_count": null,
      "metadata": {
        "id": "yKH24VO5AXS5"
      },
      "outputs": [],
      "source": [
        "filtered_df = filtered_df[['사업자번호','전년대비부채비율증가율']]"
      ]
    },
    {
      "cell_type": "code",
      "execution_count": null,
      "metadata": {
        "id": "p9drU1k3AYnG"
      },
      "outputs": [],
      "source": [
        "data=pd.merge(data,filtered_df,how='left',on='사업자번호')"
      ]
    },
    {
      "cell_type": "markdown",
      "metadata": {
        "id": "EyryRzEw4jN6"
      },
      "source": [
        "#### 6-6 전년대비종사자수증가율"
      ]
    },
    {
      "cell_type": "code",
      "execution_count": null,
      "metadata": {
        "id": "4VNmlvBf_qWd"
      },
      "outputs": [],
      "source": [
        "filtered_df=None\n",
        "filtered_df=data.copy()\n",
        "filtered_df=filtered_df.dropna(subset=['종사자수_2021'])\n",
        "filtered_df=filtered_df.dropna(subset=['종사자수_2022'])\n",
        "filtered_df=filtered_df[filtered_df['종사자수_2021']!=0]\n",
        "filtered_df=filtered_df[filtered_df['종사자수_2022']!=0]"
      ]
    },
    {
      "cell_type": "code",
      "execution_count": null,
      "metadata": {
        "id": "zbZCf6pD_3_s"
      },
      "outputs": [],
      "source": [
        "filtered_df['전년대비종사자수증가율']= (filtered_df['종사자수_2022']-filtered_df['종사자수_2021'])/filtered_df['종사자수_2021']*100"
      ]
    },
    {
      "cell_type": "code",
      "execution_count": null,
      "metadata": {
        "id": "fTdTpmPZ_7K2"
      },
      "outputs": [],
      "source": [
        "filtered_df=filtered_df[['사업자번호','전년대비종사자수증가율']]"
      ]
    },
    {
      "cell_type": "code",
      "execution_count": null,
      "metadata": {
        "id": "TWi5I0Ok_-kh"
      },
      "outputs": [],
      "source": [
        "data=pd.merge(data,filtered_df,how='left',on='사업자번호')"
      ]
    }
  ],
  "metadata": {
    "colab": {
      "provenance": []
    },
    "kernelspec": {
      "display_name": "Python 3",
      "name": "python3"
    },
    "language_info": {
      "name": "python"
    }
  },
  "nbformat": 4,
  "nbformat_minor": 0
}
